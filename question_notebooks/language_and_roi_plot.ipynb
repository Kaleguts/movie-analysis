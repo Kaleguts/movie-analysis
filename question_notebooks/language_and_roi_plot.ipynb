{
 "cells": [
  {
   "cell_type": "markdown",
   "metadata": {},
   "source": [
    "# Can the success of a non-English language film predict its ROI?\n"
   ]
  },
  {
   "cell_type": "markdown",
   "metadata": {},
   "source": [
    "## We begin by importing our libraries and necessary data."
   ]
  },
  {
   "cell_type": "code",
   "execution_count": 1,
   "metadata": {},
   "outputs": [],
   "source": [
    "import pandas as pd\n",
    "import numpy as np\n",
    "from glob import glob\n",
    "import matplotlib.pyplot as plt\n",
    "import sqlite3\n",
    "import os\n",
    "import seaborn as sns\n",
    "%matplotlib inline "
   ]
  },
  {
   "cell_type": "code",
   "execution_count": 3,
   "metadata": {},
   "outputs": [],
   "source": [
    "budget_aka_df = pd.read_csv('zippedData/budget_to_aka.csv')"
   ]
  },
  {
   "cell_type": "code",
   "execution_count": 4,
   "metadata": {},
   "outputs": [
    {
     "data": {
      "text/html": [
       "<div>\n",
       "<style scoped>\n",
       "    .dataframe tbody tr th:only-of-type {\n",
       "        vertical-align: middle;\n",
       "    }\n",
       "\n",
       "    .dataframe tbody tr th {\n",
       "        vertical-align: top;\n",
       "    }\n",
       "\n",
       "    .dataframe thead th {\n",
       "        text-align: right;\n",
       "    }\n",
       "</style>\n",
       "<table border=\"1\" class=\"dataframe\">\n",
       "  <thead>\n",
       "    <tr style=\"text-align: right;\">\n",
       "      <th></th>\n",
       "      <th>Unnamed: 0</th>\n",
       "      <th>id</th>\n",
       "      <th>release_date</th>\n",
       "      <th>movie</th>\n",
       "      <th>production_budget</th>\n",
       "      <th>domestic_gross</th>\n",
       "      <th>worldwide_gross</th>\n",
       "      <th>worldwide_profitability</th>\n",
       "      <th>worldwide_ROI</th>\n",
       "      <th>domestic_profitability</th>\n",
       "      <th>...</th>\n",
       "      <th>ar</th>\n",
       "      <th>pt</th>\n",
       "      <th>ur</th>\n",
       "      <th>bg</th>\n",
       "      <th>cmn</th>\n",
       "      <th>ca</th>\n",
       "      <th>fr</th>\n",
       "      <th>sv</th>\n",
       "      <th>fa</th>\n",
       "      <th>bn</th>\n",
       "    </tr>\n",
       "  </thead>\n",
       "  <tbody>\n",
       "    <tr>\n",
       "      <td>0</td>\n",
       "      <td>0</td>\n",
       "      <td>0.0</td>\n",
       "      <td>Dec 18, 2009</td>\n",
       "      <td>Avatar</td>\n",
       "      <td>425000000</td>\n",
       "      <td>760507625</td>\n",
       "      <td>2776345279</td>\n",
       "      <td>2351345279</td>\n",
       "      <td>553.257713</td>\n",
       "      <td>335507625</td>\n",
       "      <td>...</td>\n",
       "      <td>0.0</td>\n",
       "      <td>0.0</td>\n",
       "      <td>0.0</td>\n",
       "      <td>0.0</td>\n",
       "      <td>0.0</td>\n",
       "      <td>0.0</td>\n",
       "      <td>0.0</td>\n",
       "      <td>0.0</td>\n",
       "      <td>0.0</td>\n",
       "      <td>0.0</td>\n",
       "    </tr>\n",
       "    <tr>\n",
       "      <td>1</td>\n",
       "      <td>1</td>\n",
       "      <td>0.0</td>\n",
       "      <td>May 20, 2011</td>\n",
       "      <td>Pirates of the Caribbean: On Stranger Tides</td>\n",
       "      <td>410600000</td>\n",
       "      <td>241063875</td>\n",
       "      <td>1045663875</td>\n",
       "      <td>635063875</td>\n",
       "      <td>154.667286</td>\n",
       "      <td>-169536125</td>\n",
       "      <td>...</td>\n",
       "      <td>0.0</td>\n",
       "      <td>0.0</td>\n",
       "      <td>0.0</td>\n",
       "      <td>0.0</td>\n",
       "      <td>0.0</td>\n",
       "      <td>0.0</td>\n",
       "      <td>0.0</td>\n",
       "      <td>0.0</td>\n",
       "      <td>0.0</td>\n",
       "      <td>0.0</td>\n",
       "    </tr>\n",
       "    <tr>\n",
       "      <td>2</td>\n",
       "      <td>2</td>\n",
       "      <td>0.0</td>\n",
       "      <td>Jun 7, 2019</td>\n",
       "      <td>Dark Phoenix</td>\n",
       "      <td>350000000</td>\n",
       "      <td>42762350</td>\n",
       "      <td>149762350</td>\n",
       "      <td>-200237650</td>\n",
       "      <td>-57.210757</td>\n",
       "      <td>-307237650</td>\n",
       "      <td>...</td>\n",
       "      <td>0.0</td>\n",
       "      <td>0.0</td>\n",
       "      <td>0.0</td>\n",
       "      <td>0.0</td>\n",
       "      <td>0.0</td>\n",
       "      <td>0.0</td>\n",
       "      <td>0.0</td>\n",
       "      <td>0.0</td>\n",
       "      <td>0.0</td>\n",
       "      <td>0.0</td>\n",
       "    </tr>\n",
       "    <tr>\n",
       "      <td>3</td>\n",
       "      <td>6</td>\n",
       "      <td>0.0</td>\n",
       "      <td>Apr 27, 2018</td>\n",
       "      <td>Avengers: Infinity War</td>\n",
       "      <td>300000000</td>\n",
       "      <td>678815482</td>\n",
       "      <td>2048134200</td>\n",
       "      <td>1748134200</td>\n",
       "      <td>582.711400</td>\n",
       "      <td>378815482</td>\n",
       "      <td>...</td>\n",
       "      <td>0.0</td>\n",
       "      <td>0.0</td>\n",
       "      <td>0.0</td>\n",
       "      <td>0.0</td>\n",
       "      <td>0.0</td>\n",
       "      <td>0.0</td>\n",
       "      <td>0.0</td>\n",
       "      <td>0.0</td>\n",
       "      <td>0.0</td>\n",
       "      <td>0.0</td>\n",
       "    </tr>\n",
       "    <tr>\n",
       "      <td>4</td>\n",
       "      <td>6</td>\n",
       "      <td>0.0</td>\n",
       "      <td>Apr 27, 2018</td>\n",
       "      <td>Avengers: Infinity War</td>\n",
       "      <td>300000000</td>\n",
       "      <td>678815482</td>\n",
       "      <td>2048134200</td>\n",
       "      <td>1748134200</td>\n",
       "      <td>582.711400</td>\n",
       "      <td>378815482</td>\n",
       "      <td>...</td>\n",
       "      <td>0.0</td>\n",
       "      <td>0.0</td>\n",
       "      <td>0.0</td>\n",
       "      <td>0.0</td>\n",
       "      <td>0.0</td>\n",
       "      <td>0.0</td>\n",
       "      <td>0.0</td>\n",
       "      <td>0.0</td>\n",
       "      <td>0.0</td>\n",
       "      <td>0.0</td>\n",
       "    </tr>\n",
       "  </tbody>\n",
       "</table>\n",
       "<p>5 rows × 38 columns</p>\n",
       "</div>"
      ],
      "text/plain": [
       "   Unnamed: 0   id  release_date                                        movie  \\\n",
       "0           0  0.0  Dec 18, 2009                                       Avatar   \n",
       "1           1  0.0  May 20, 2011  Pirates of the Caribbean: On Stranger Tides   \n",
       "2           2  0.0   Jun 7, 2019                                 Dark Phoenix   \n",
       "3           6  0.0  Apr 27, 2018                       Avengers: Infinity War   \n",
       "4           6  0.0  Apr 27, 2018                       Avengers: Infinity War   \n",
       "\n",
       "   production_budget  domestic_gross  worldwide_gross  \\\n",
       "0          425000000       760507625       2776345279   \n",
       "1          410600000       241063875       1045663875   \n",
       "2          350000000        42762350        149762350   \n",
       "3          300000000       678815482       2048134200   \n",
       "4          300000000       678815482       2048134200   \n",
       "\n",
       "   worldwide_profitability  worldwide_ROI  domestic_profitability  ...   ar  \\\n",
       "0               2351345279     553.257713               335507625  ...  0.0   \n",
       "1                635063875     154.667286              -169536125  ...  0.0   \n",
       "2               -200237650     -57.210757              -307237650  ...  0.0   \n",
       "3               1748134200     582.711400               378815482  ...  0.0   \n",
       "4               1748134200     582.711400               378815482  ...  0.0   \n",
       "\n",
       "    pt   ur   bg  cmn   ca   fr   sv   fa   bn  \n",
       "0  0.0  0.0  0.0  0.0  0.0  0.0  0.0  0.0  0.0  \n",
       "1  0.0  0.0  0.0  0.0  0.0  0.0  0.0  0.0  0.0  \n",
       "2  0.0  0.0  0.0  0.0  0.0  0.0  0.0  0.0  0.0  \n",
       "3  0.0  0.0  0.0  0.0  0.0  0.0  0.0  0.0  0.0  \n",
       "4  0.0  0.0  0.0  0.0  0.0  0.0  0.0  0.0  0.0  \n",
       "\n",
       "[5 rows x 38 columns]"
      ]
     },
     "execution_count": 4,
     "metadata": {},
     "output_type": "execute_result"
    }
   ],
   "source": [
    "budget_aka_df.head()"
   ]
  },
  {
   "cell_type": "code",
   "execution_count": 7,
   "metadata": {},
   "outputs": [
    {
     "name": "stdout",
     "output_type": "stream",
     "text": [
      "<class 'pandas.core.frame.DataFrame'>\n",
      "RangeIndex: 1541 entries, 0 to 1540\n",
      "Data columns (total 37 columns):\n",
      "id                         1541 non-null float64\n",
      "release_date               1541 non-null object\n",
      "movie                      1541 non-null object\n",
      "production_budget          1541 non-null int64\n",
      "domestic_gross             1541 non-null int64\n",
      "worldwide_gross            1541 non-null int64\n",
      "worldwide_profitability    1541 non-null int64\n",
      "worldwide_ROI              1541 non-null float64\n",
      "domestic_profitability     1541 non-null int64\n",
      "domestic_ROI               1541 non-null float64\n",
      "title_id                   1541 non-null object\n",
      "ordering                   1541 non-null int64\n",
      "region                     1541 non-null object\n",
      "language                   1541 non-null object\n",
      "he                         1541 non-null float64\n",
      "kn                         1541 non-null float64\n",
      "es                         1541 non-null float64\n",
      "ta                         1541 non-null float64\n",
      "qbn                        1541 non-null float64\n",
      "hi                         1541 non-null float64\n",
      "tr                         1541 non-null float64\n",
      "te                         1541 non-null float64\n",
      "de                         1541 non-null float64\n",
      "hr                         1541 non-null float64\n",
      "nl                         1541 non-null float64\n",
      "en                         1541 non-null float64\n",
      "it                         1541 non-null float64\n",
      "ar                         1541 non-null float64\n",
      "pt                         1541 non-null float64\n",
      "ur                         1541 non-null float64\n",
      "bg                         1541 non-null float64\n",
      "cmn                        1541 non-null float64\n",
      "ca                         1541 non-null float64\n",
      "fr                         1541 non-null float64\n",
      "sv                         1541 non-null float64\n",
      "fa                         1541 non-null float64\n",
      "bn                         1541 non-null float64\n",
      "dtypes: float64(26), int64(6), object(5)\n",
      "memory usage: 445.6+ KB\n"
     ]
    }
   ],
   "source": [
    "budget_aka_df.info()"
   ]
  },
  {
   "cell_type": "markdown",
   "metadata": {},
   "source": [
    "### Let's drop the unnecessary column that arrived when we imported the CSV"
   ]
  },
  {
   "cell_type": "code",
   "execution_count": 5,
   "metadata": {},
   "outputs": [],
   "source": [
    "budget_aka_df.drop(columns=['Unnamed: 0'], inplace=True)"
   ]
  },
  {
   "cell_type": "markdown",
   "metadata": {},
   "source": [
    "## During the data cleaning process we combined our two tables for analysis.\n",
    "\n",
    "These two tables are imdb_title_aka_df and tmdb_budgets_df. imdb_title_aka_df shows, among other things, the region and language of the films in the table. tmdb_budgets_df shows the budgets. \n",
    "\n",
    "It is also worth noting that our languages column has been split such that each individual language has its own column and will be measured against its corresponding ROI."
   ]
  },
  {
   "cell_type": "markdown",
   "metadata": {},
   "source": [
    "# Time to plot our data and look at the non-English language films!"
   ]
  },
  {
   "cell_type": "markdown",
   "metadata": {},
   "source": [
    "## Before we create our boxplots we must create our dictionary of languages to ROIs\n",
    "\n",
    "Below we create a list of the columns from our dataframe in order to separate out each language from one another. Afterwards, we create a dictionary called lang_count to get the count of films for each language where we add 1 for each instance that a language exists for a particular film. Our new list sorts the counts. The sort is initially alphabetically but we wrote a lambda function to sort the languages in numerical order ascending. From this, we will analyze only the languages whose count is greater than 100 and is not English. This will amount to languages whose market share is between 4 and 20%. \n",
    "\n",
    "Note: The English language has 40% of the market share according to this dataframe. "
   ]
  },
  {
   "cell_type": "code",
   "execution_count": 9,
   "metadata": {},
   "outputs": [],
   "source": [
    "cols = list(budget_aka_df.columns)"
   ]
  },
  {
   "cell_type": "code",
   "execution_count": 10,
   "metadata": {},
   "outputs": [],
   "source": [
    "budget_aka_df_cols = cols[14:]"
   ]
  },
  {
   "cell_type": "code",
   "execution_count": 12,
   "metadata": {},
   "outputs": [
    {
     "data": {
      "text/plain": [
       "['he',\n",
       " 'kn',\n",
       " 'es',\n",
       " 'ta',\n",
       " 'qbn',\n",
       " 'hi',\n",
       " 'tr',\n",
       " 'te',\n",
       " 'de',\n",
       " 'hr',\n",
       " 'nl',\n",
       " 'en',\n",
       " 'it',\n",
       " 'ar',\n",
       " 'pt',\n",
       " 'ur',\n",
       " 'bg',\n",
       " 'cmn',\n",
       " 'ca',\n",
       " 'fr',\n",
       " 'sv',\n",
       " 'fa',\n",
       " 'bn']"
      ]
     },
     "execution_count": 12,
     "metadata": {},
     "output_type": "execute_result"
    }
   ],
   "source": [
    "budget_aka_df_cols"
   ]
  },
  {
   "cell_type": "code",
   "execution_count": 16,
   "metadata": {},
   "outputs": [],
   "source": [
    "lang_count = {}\n",
    "for col in budget_aka_df_cols:\n",
    "    count = np.sum(budget_aka_df[col] == 1).sum() \n",
    "    lang_count[col] = count"
   ]
  },
  {
   "cell_type": "code",
   "execution_count": 17,
   "metadata": {},
   "outputs": [
    {
     "data": {
      "text/plain": [
       "{'he': 425,\n",
       " 'kn': 1,\n",
       " 'es': 8,\n",
       " 'ta': 2,\n",
       " 'qbn': 1,\n",
       " 'hi': 17,\n",
       " 'tr': 365,\n",
       " 'te': 14,\n",
       " 'de': 30,\n",
       " 'hr': 9,\n",
       " 'nl': 1,\n",
       " 'en': 1113,\n",
       " 'it': 14,\n",
       " 'ar': 1,\n",
       " 'pt': 6,\n",
       " 'ur': 6,\n",
       " 'bg': 9,\n",
       " 'cmn': 7,\n",
       " 'ca': 4,\n",
       " 'fr': 545,\n",
       " 'sv': 114,\n",
       " 'fa': 8,\n",
       " 'bn': 6}"
      ]
     },
     "execution_count": 17,
     "metadata": {},
     "output_type": "execute_result"
    }
   ],
   "source": [
    "lang_count"
   ]
  },
  {
   "cell_type": "code",
   "execution_count": 18,
   "metadata": {},
   "outputs": [
    {
     "data": {
      "text/plain": [
       "[('ar', 1),\n",
       " ('bg', 9),\n",
       " ('bn', 6),\n",
       " ('ca', 4),\n",
       " ('cmn', 7),\n",
       " ('de', 30),\n",
       " ('en', 1113),\n",
       " ('es', 8),\n",
       " ('fa', 8),\n",
       " ('fr', 545),\n",
       " ('he', 425),\n",
       " ('hi', 17),\n",
       " ('hr', 9),\n",
       " ('it', 14),\n",
       " ('kn', 1),\n",
       " ('nl', 1),\n",
       " ('pt', 6),\n",
       " ('qbn', 1),\n",
       " ('sv', 114),\n",
       " ('ta', 2),\n",
       " ('te', 14),\n",
       " ('tr', 365),\n",
       " ('ur', 6)]"
      ]
     },
     "execution_count": 18,
     "metadata": {},
     "output_type": "execute_result"
    }
   ],
   "source": [
    "new_list=sorted(lang_count.items())\n",
    "new_list"
   ]
  },
  {
   "cell_type": "code",
   "execution_count": 19,
   "metadata": {},
   "outputs": [
    {
     "data": {
      "text/plain": [
       "{'kn': 1,\n",
       " 'qbn': 1,\n",
       " 'nl': 1,\n",
       " 'ar': 1,\n",
       " 'ta': 2,\n",
       " 'ca': 4,\n",
       " 'pt': 6,\n",
       " 'ur': 6,\n",
       " 'bn': 6,\n",
       " 'cmn': 7,\n",
       " 'es': 8,\n",
       " 'fa': 8,\n",
       " 'hr': 9,\n",
       " 'bg': 9,\n",
       " 'te': 14,\n",
       " 'it': 14,\n",
       " 'hi': 17,\n",
       " 'de': 30,\n",
       " 'sv': 114,\n",
       " 'tr': 365,\n",
       " 'he': 425,\n",
       " 'fr': 545,\n",
       " 'en': 1113}"
      ]
     },
     "execution_count": 19,
     "metadata": {},
     "output_type": "execute_result"
    }
   ],
   "source": [
    "{k: v for k, v in sorted(lang_count.items(), key=lambda item: item[1])}"
   ]
  },
  {
   "cell_type": "markdown",
   "metadata": {},
   "source": [
    "## Now, we plot!"
   ]
  },
  {
   "cell_type": "markdown",
   "metadata": {},
   "source": [
    "One final move we make before we create our boxplot is to create a list of languages that we want to analyze (the aforementioned languages whose prevalence is more than 100 and is not English). From this list we create a dictionary that will have a language as its key which will match to its corresponding ROI value using a for loop that will iterate through the rows of our dataframe and add a 1 to the key for each time the language is present and append the ROI for the corresponding language."
   ]
  },
  {
   "cell_type": "code",
   "execution_count": 21,
   "metadata": {},
   "outputs": [],
   "source": [
    "languages = [\"en\", \"fr\", \"he\", \"tr\", \"sv\", \"bg\"]\n",
    "dic = {}\n",
    "dic[\"language\"] = []\n",
    "dic[\"roi\"] = []\n",
    "for index, row in budget_aka_df.iterrows():\n",
    "    for i in languages:\n",
    "        if row[i] == 1:\n",
    "            dic[\"language\"].append(i)\n",
    "            dic[\"roi\"].append(row['worldwide_ROI'])"
   ]
  },
  {
   "cell_type": "code",
   "execution_count": 22,
   "metadata": {},
   "outputs": [
    {
     "name": "stdout",
     "output_type": "stream",
     "text": [
      "     language          roi\n",
      "0          en   553.257713\n",
      "1          en   154.667286\n",
      "2          en   -57.210757\n",
      "3          en   582.711400\n",
      "4          en   582.711400\n",
      "...       ...          ...\n",
      "2566       en   -98.176000\n",
      "2567       en   730.307895\n",
      "2568       en  2669.782000\n",
      "2569       en   680.172000\n",
      "2570       en  5236.991304\n",
      "\n",
      "[2571 rows x 2 columns]\n"
     ]
    }
   ],
   "source": [
    "df1 = pd.DataFrame(dic)\n",
    "print(df1)"
   ]
  },
  {
   "cell_type": "markdown",
   "metadata": {},
   "source": [
    "## Smells like success?\n",
    "\n",
    "Here we can see that there are four languages that match our aforementioned requirements. We organized our languages in descending order based on ROI. All four non-English languages that we chose have a median ROI of well over 100 with two returning around 200 as their median. The languages, from left to right, are Hebrew, Turkish, French, and Swedish."
   ]
  },
  {
   "cell_type": "code",
   "execution_count": 23,
   "metadata": {
    "scrolled": true
   },
   "outputs": [
    {
     "data": {
      "image/png": "[encoded data removed]",
      "text/plain": [
       "<Figure size 864x504 with 1 Axes>"
      ]
     },
     "metadata": {
      "needs_background": "light"
     },
     "output_type": "display_data"
    }
   ],
   "source": [
    "plt.figure(figsize=(12,7))\n",
    "sns.set_style('whitegrid')\n",
    "\n",
    "b=box_plot=sns.boxplot(data=df1, x='language', y='roi', showfliers=False,  \n",
    "                       order=['he', 'tr', 'fr','sv'], \n",
    "                       palette=\"Blues_r\")\n",
    "b.axes.set_title(\"ROI of Non-English Films with Market Share between 4 and 20%\",\n",
    "                 fontsize=14)\n",
    "b.set_xlabel(\"Languages\",fontsize=13)\n",
    "b.set_ylabel(\"Worldwide ROI\",fontsize=12)\n",
    "b.tick_params(labelsize=12)\n",
    "yticks = np.linspace(start=0, stop=100*10, num=11)\n",
    "plt.yticks(yticks)\n",
    "plt.show()"
   ]
  },
  {
   "cell_type": "markdown",
   "metadata": {},
   "source": [
    "# Key Findings and Further Research Suggestions"
   ]
  },
  {
   "cell_type": "markdown",
   "metadata": {},
   "source": [
    "According to the above information, it can be surmised that Microsoft should, perhaps, look into Turkish and Hebrew as languages to both film in and translate its English-speaking films into. With recent Netflix successes in Hebrew-speaking shows like Fauda and Shtisel and Turkish shows such as Rise of Empires: Ottoman it seems like this could be a very successful venture for Microsoft to enter as well!\n",
    "\n",
    "A future question that we believe is worth looking into is regarding the country of origin of the film. It would be interesting to see if this is a factor in its success when we analyze its language alongside of it. \n",
    "\n",
    "Best of luck in your ventures, Microsoft!"
   ]
  }
 ],
 "metadata": {
  "kernelspec": {
   "display_name": "Python [conda env:learn-env] *",
   "language": "python",
   "name": "conda-env-learn-env-py"
  },
  "language_info": {
   "codemirror_mode": {
    "name": "ipython",
    "version": 3
   },
   "file_extension": ".py",
   "mimetype": "text/x-python",
   "name": "python",
   "nbconvert_exporter": "python",
   "pygments_lexer": "ipython3",
   "version": "3.6.9"
  },
  "toc": {
   "base_numbering": 1,
   "nav_menu": {},
   "number_sections": true,
   "sideBar": true,
   "skip_h1_title": false,
   "title_cell": "Table of Contents",
   "title_sidebar": "Contents",
   "toc_cell": false,
   "toc_position": {},
   "toc_section_display": true,
   "toc_window_display": false
  }
 },
 "nbformat": 4,
 "nbformat_minor": 2
}
