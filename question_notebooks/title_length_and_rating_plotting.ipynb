{
 "cells": [
  {
   "cell_type": "markdown",
   "metadata": {},
   "source": [
    "# Does title length affect ratings?\n",
    "**Steven Zych**\n",
    "\n",
    "This document explores the relationships between a films title length (in words) and its average ratings as well as average number of ratings. It will be shown that **yes, a meaningful relationship exists.**"
   ]
  },
  {
   "cell_type": "markdown",
   "metadata": {},
   "source": [
    "## Importing Data\n",
    "\n",
    "First we import our main libraries and open all those .csv files as DataFrames."
   ]
  },
  {
   "cell_type": "code",
   "execution_count": 1,
   "metadata": {},
   "outputs": [],
   "source": [
    "import numpy as np\n",
    "import pandas as pd\n",
    "from glob import glob\n",
    "import sqlite3\n",
    "import seaborn as sns\n",
    "import matplotlib.pyplot as plt\n",
    "%matplotlib inline"
   ]
  },
  {
   "cell_type": "code",
   "execution_count": 2,
   "metadata": {},
   "outputs": [
    {
     "data": {
      "text/plain": [
       "9"
      ]
     },
     "execution_count": 2,
     "metadata": {},
     "output_type": "execute_result"
    }
   ],
   "source": [
    "# This pulls all the .csv files into one list of dataframes.\n",
    "\n",
    "csv_files = glob('zippedData/*.csv.gz')\n",
    "csv_dfs = [pd.read_csv(f) for f in csv_files]\n",
    "len(csv_dfs)"
   ]
  },
  {
   "cell_type": "markdown",
   "metadata": {},
   "source": [
    "Now we give those files readable names and open them to see what meaningful columns we want to work with."
   ]
  },
  {
   "cell_type": "code",
   "execution_count": 3,
   "metadata": {},
   "outputs": [],
   "source": [
    "# Assign the .csv files to human-readable variables.\n",
    "imdb_basics = csv_dfs[3]\n",
    "imdb_ratings = csv_dfs[6]"
   ]
  },
  {
   "cell_type": "code",
   "execution_count": 4,
   "metadata": {
    "scrolled": true
   },
   "outputs": [
    {
     "data": {
      "text/html": [
       "<div>\n",
       "<style scoped>\n",
       "    .dataframe tbody tr th:only-of-type {\n",
       "        vertical-align: middle;\n",
       "    }\n",
       "\n",
       "    .dataframe tbody tr th {\n",
       "        vertical-align: top;\n",
       "    }\n",
       "\n",
       "    .dataframe thead th {\n",
       "        text-align: right;\n",
       "    }\n",
       "</style>\n",
       "<table border=\"1\" class=\"dataframe\">\n",
       "  <thead>\n",
       "    <tr style=\"text-align: right;\">\n",
       "      <th></th>\n",
       "      <th>tconst</th>\n",
       "      <th>primary_title</th>\n",
       "      <th>original_title</th>\n",
       "      <th>start_year</th>\n",
       "      <th>runtime_minutes</th>\n",
       "      <th>genres</th>\n",
       "    </tr>\n",
       "  </thead>\n",
       "  <tbody>\n",
       "    <tr>\n",
       "      <td>0</td>\n",
       "      <td>tt0063540</td>\n",
       "      <td>Sunghursh</td>\n",
       "      <td>Sunghursh</td>\n",
       "      <td>2013</td>\n",
       "      <td>175.0</td>\n",
       "      <td>Action,Crime,Drama</td>\n",
       "    </tr>\n",
       "    <tr>\n",
       "      <td>1</td>\n",
       "      <td>tt0066787</td>\n",
       "      <td>One Day Before the Rainy Season</td>\n",
       "      <td>Ashad Ka Ek Din</td>\n",
       "      <td>2019</td>\n",
       "      <td>114.0</td>\n",
       "      <td>Biography,Drama</td>\n",
       "    </tr>\n",
       "    <tr>\n",
       "      <td>2</td>\n",
       "      <td>tt0069049</td>\n",
       "      <td>The Other Side of the Wind</td>\n",
       "      <td>The Other Side of the Wind</td>\n",
       "      <td>2018</td>\n",
       "      <td>122.0</td>\n",
       "      <td>Drama</td>\n",
       "    </tr>\n",
       "    <tr>\n",
       "      <td>3</td>\n",
       "      <td>tt0069204</td>\n",
       "      <td>Sabse Bada Sukh</td>\n",
       "      <td>Sabse Bada Sukh</td>\n",
       "      <td>2018</td>\n",
       "      <td>NaN</td>\n",
       "      <td>Comedy,Drama</td>\n",
       "    </tr>\n",
       "    <tr>\n",
       "      <td>4</td>\n",
       "      <td>tt0100275</td>\n",
       "      <td>The Wandering Soap Opera</td>\n",
       "      <td>La Telenovela Errante</td>\n",
       "      <td>2017</td>\n",
       "      <td>80.0</td>\n",
       "      <td>Comedy,Drama,Fantasy</td>\n",
       "    </tr>\n",
       "  </tbody>\n",
       "</table>\n",
       "</div>"
      ],
      "text/plain": [
       "      tconst                    primary_title              original_title  \\\n",
       "0  tt0063540                        Sunghursh                   Sunghursh   \n",
       "1  tt0066787  One Day Before the Rainy Season             Ashad Ka Ek Din   \n",
       "2  tt0069049       The Other Side of the Wind  The Other Side of the Wind   \n",
       "3  tt0069204                  Sabse Bada Sukh             Sabse Bada Sukh   \n",
       "4  tt0100275         The Wandering Soap Opera       La Telenovela Errante   \n",
       "\n",
       "   start_year  runtime_minutes                genres  \n",
       "0        2013            175.0    Action,Crime,Drama  \n",
       "1        2019            114.0       Biography,Drama  \n",
       "2        2018            122.0                 Drama  \n",
       "3        2018              NaN          Comedy,Drama  \n",
       "4        2017             80.0  Comedy,Drama,Fantasy  "
      ]
     },
     "execution_count": 4,
     "metadata": {},
     "output_type": "execute_result"
    }
   ],
   "source": [
    "imdb_basics.head() # Using: tconst, primary_title, start_year"
   ]
  },
  {
   "cell_type": "code",
   "execution_count": 5,
   "metadata": {},
   "outputs": [
    {
     "data": {
      "text/html": [
       "<div>\n",
       "<style scoped>\n",
       "    .dataframe tbody tr th:only-of-type {\n",
       "        vertical-align: middle;\n",
       "    }\n",
       "\n",
       "    .dataframe tbody tr th {\n",
       "        vertical-align: top;\n",
       "    }\n",
       "\n",
       "    .dataframe thead th {\n",
       "        text-align: right;\n",
       "    }\n",
       "</style>\n",
       "<table border=\"1\" class=\"dataframe\">\n",
       "  <thead>\n",
       "    <tr style=\"text-align: right;\">\n",
       "      <th></th>\n",
       "      <th>tconst</th>\n",
       "      <th>averagerating</th>\n",
       "      <th>numvotes</th>\n",
       "    </tr>\n",
       "  </thead>\n",
       "  <tbody>\n",
       "    <tr>\n",
       "      <td>0</td>\n",
       "      <td>tt10356526</td>\n",
       "      <td>8.3</td>\n",
       "      <td>31</td>\n",
       "    </tr>\n",
       "    <tr>\n",
       "      <td>1</td>\n",
       "      <td>tt10384606</td>\n",
       "      <td>8.9</td>\n",
       "      <td>559</td>\n",
       "    </tr>\n",
       "    <tr>\n",
       "      <td>2</td>\n",
       "      <td>tt1042974</td>\n",
       "      <td>6.4</td>\n",
       "      <td>20</td>\n",
       "    </tr>\n",
       "    <tr>\n",
       "      <td>3</td>\n",
       "      <td>tt1043726</td>\n",
       "      <td>4.2</td>\n",
       "      <td>50352</td>\n",
       "    </tr>\n",
       "    <tr>\n",
       "      <td>4</td>\n",
       "      <td>tt1060240</td>\n",
       "      <td>6.5</td>\n",
       "      <td>21</td>\n",
       "    </tr>\n",
       "  </tbody>\n",
       "</table>\n",
       "</div>"
      ],
      "text/plain": [
       "       tconst  averagerating  numvotes\n",
       "0  tt10356526            8.3        31\n",
       "1  tt10384606            8.9       559\n",
       "2   tt1042974            6.4        20\n",
       "3   tt1043726            4.2     50352\n",
       "4   tt1060240            6.5        21"
      ]
     },
     "execution_count": 5,
     "metadata": {},
     "output_type": "execute_result"
    }
   ],
   "source": [
    "imdb_ratings.head() #Using: tconst, averagerating, numvotes"
   ]
  },
  {
   "cell_type": "markdown",
   "metadata": {},
   "source": [
    "## Establishing A Database\n",
    "\n",
    "Then, we create a SQL database, check that it's in our working directory, and import our DataFrames into SQL."
   ]
  },
  {
   "cell_type": "code",
   "execution_count": 6,
   "metadata": {},
   "outputs": [],
   "source": [
    "# Create a SQL database for easy joins.\n",
    "\n",
    "conn = sqlite3.connect('steven2.db')\n",
    "cur = conn.cursor()"
   ]
  },
  {
   "cell_type": "code",
   "execution_count": 7,
   "metadata": {},
   "outputs": [],
   "source": [
    "# Check to make sure SQL database was created."
   ]
  },
  {
   "cell_type": "code",
   "execution_count": 8,
   "metadata": {},
   "outputs": [
    {
     "name": "stdout",
     "output_type": "stream",
     "text": [
      " Volume in drive C is OS\n",
      " Volume Serial Number is C084-E836\n",
      "\n",
      " Directory of C:\\Users\\Steven\\class\\mod1\\movie-analysis\n",
      "\n",
      "06/18/2020  03:45 PM    <DIR>          .\n",
      "06/18/2020  03:45 PM    <DIR>          ..\n",
      "06/16/2020  11:59 AM             2,131 .gitignore\n",
      "06/18/2020  11:42 AM    <DIR>          .ipynb_checkpoints\n",
      "06/17/2020  10:59 AM            44,093 profit_and_runtime_cleaning.ipynb\n",
      "06/18/2020  02:30 PM           135,935 profit_and_runtime_plotting.ipynb\n",
      "06/16/2020  10:26 AM                16 README.md\n",
      "06/18/2020  03:45 PM           163,145 steven_average_rating_and_title_length.ipynb\n",
      "06/16/2020  11:49 AM            61,933 steven_data_exploration.ipynb\n",
      "06/18/2020  01:47 PM        12,980,224 steven2.db\n",
      "06/16/2020  03:28 PM    <DIR>          zippedData\n",
      "               7 File(s)     13,387,477 bytes\n",
      "               4 Dir(s)  45,830,942,720 bytes free\n"
     ]
    }
   ],
   "source": [
    "ls"
   ]
  },
  {
   "cell_type": "code",
   "execution_count": 9,
   "metadata": {},
   "outputs": [],
   "source": [
    "# Turn dataframes into tables on database.\n",
    "\n",
    "imdb_basics.to_sql('basics', conn, if_exists='replace', index=False)\n",
    "imdb_ratings.to_sql('ratings', conn, if_exists='replace', index=False)"
   ]
  },
  {
   "cell_type": "code",
   "execution_count": 10,
   "metadata": {},
   "outputs": [],
   "source": [
    "# Commit database changes\n",
    "\n",
    "conn.commit()"
   ]
  },
  {
   "cell_type": "code",
   "execution_count": 11,
   "metadata": {},
   "outputs": [
    {
     "data": {
      "text/html": [
       "<div>\n",
       "<style scoped>\n",
       "    .dataframe tbody tr th:only-of-type {\n",
       "        vertical-align: middle;\n",
       "    }\n",
       "\n",
       "    .dataframe tbody tr th {\n",
       "        vertical-align: top;\n",
       "    }\n",
       "\n",
       "    .dataframe thead th {\n",
       "        text-align: right;\n",
       "    }\n",
       "</style>\n",
       "<table border=\"1\" class=\"dataframe\">\n",
       "  <thead>\n",
       "    <tr style=\"text-align: right;\">\n",
       "      <th></th>\n",
       "      <th>primary_title</th>\n",
       "      <th>start_year</th>\n",
       "      <th>numvotes</th>\n",
       "      <th>averagerating</th>\n",
       "    </tr>\n",
       "    <tr>\n",
       "      <th>tconst</th>\n",
       "      <th></th>\n",
       "      <th></th>\n",
       "      <th></th>\n",
       "      <th></th>\n",
       "    </tr>\n",
       "  </thead>\n",
       "  <tbody>\n",
       "    <tr>\n",
       "      <td>tt0063540</td>\n",
       "      <td>Sunghursh</td>\n",
       "      <td>2013</td>\n",
       "      <td>77</td>\n",
       "      <td>7.0</td>\n",
       "    </tr>\n",
       "    <tr>\n",
       "      <td>tt0066787</td>\n",
       "      <td>One Day Before the Rainy Season</td>\n",
       "      <td>2019</td>\n",
       "      <td>43</td>\n",
       "      <td>7.2</td>\n",
       "    </tr>\n",
       "    <tr>\n",
       "      <td>tt0069049</td>\n",
       "      <td>The Other Side of the Wind</td>\n",
       "      <td>2018</td>\n",
       "      <td>4517</td>\n",
       "      <td>6.9</td>\n",
       "    </tr>\n",
       "    <tr>\n",
       "      <td>tt0069204</td>\n",
       "      <td>Sabse Bada Sukh</td>\n",
       "      <td>2018</td>\n",
       "      <td>13</td>\n",
       "      <td>6.1</td>\n",
       "    </tr>\n",
       "    <tr>\n",
       "      <td>tt0100275</td>\n",
       "      <td>The Wandering Soap Opera</td>\n",
       "      <td>2017</td>\n",
       "      <td>119</td>\n",
       "      <td>6.5</td>\n",
       "    </tr>\n",
       "    <tr>\n",
       "      <td>...</td>\n",
       "      <td>...</td>\n",
       "      <td>...</td>\n",
       "      <td>...</td>\n",
       "      <td>...</td>\n",
       "    </tr>\n",
       "    <tr>\n",
       "      <td>tt9913084</td>\n",
       "      <td>Diabolik sono io</td>\n",
       "      <td>2019</td>\n",
       "      <td>6</td>\n",
       "      <td>6.2</td>\n",
       "    </tr>\n",
       "    <tr>\n",
       "      <td>tt9914286</td>\n",
       "      <td>Sokagin Çocuklari</td>\n",
       "      <td>2019</td>\n",
       "      <td>136</td>\n",
       "      <td>8.7</td>\n",
       "    </tr>\n",
       "    <tr>\n",
       "      <td>tt9914642</td>\n",
       "      <td>Albatross</td>\n",
       "      <td>2017</td>\n",
       "      <td>8</td>\n",
       "      <td>8.5</td>\n",
       "    </tr>\n",
       "    <tr>\n",
       "      <td>tt9914942</td>\n",
       "      <td>La vida sense la Sara Amat</td>\n",
       "      <td>2019</td>\n",
       "      <td>5</td>\n",
       "      <td>6.6</td>\n",
       "    </tr>\n",
       "    <tr>\n",
       "      <td>tt9916160</td>\n",
       "      <td>Drømmeland</td>\n",
       "      <td>2019</td>\n",
       "      <td>11</td>\n",
       "      <td>6.5</td>\n",
       "    </tr>\n",
       "  </tbody>\n",
       "</table>\n",
       "<p>73856 rows × 4 columns</p>\n",
       "</div>"
      ],
      "text/plain": [
       "                             primary_title  start_year  numvotes  \\\n",
       "tconst                                                             \n",
       "tt0063540                        Sunghursh        2013        77   \n",
       "tt0066787  One Day Before the Rainy Season        2019        43   \n",
       "tt0069049       The Other Side of the Wind        2018      4517   \n",
       "tt0069204                  Sabse Bada Sukh        2018        13   \n",
       "tt0100275         The Wandering Soap Opera        2017       119   \n",
       "...                                    ...         ...       ...   \n",
       "tt9913084                 Diabolik sono io        2019         6   \n",
       "tt9914286                Sokagin Çocuklari        2019       136   \n",
       "tt9914642                        Albatross        2017         8   \n",
       "tt9914942       La vida sense la Sara Amat        2019         5   \n",
       "tt9916160                       Drømmeland        2019        11   \n",
       "\n",
       "           averagerating  \n",
       "tconst                    \n",
       "tt0063540            7.0  \n",
       "tt0066787            7.2  \n",
       "tt0069049            6.9  \n",
       "tt0069204            6.1  \n",
       "tt0100275            6.5  \n",
       "...                  ...  \n",
       "tt9913084            6.2  \n",
       "tt9914286            8.7  \n",
       "tt9914642            8.5  \n",
       "tt9914942            6.6  \n",
       "tt9916160            6.5  \n",
       "\n",
       "[73856 rows x 4 columns]"
      ]
     },
     "execution_count": 11,
     "metadata": {},
     "output_type": "execute_result"
    }
   ],
   "source": [
    "a = pd.DataFrame(cur.execute(\"\"\"SELECT b.primary_title, b.start_year, b.tconst, r.numvotes, r.averagerating\n",
    "                                FROM basics b\n",
    "                                JOIN ratings r\n",
    "                                USING(tconst)\"\"\").fetchall())\n",
    "a.columns = [x[0] for x in cur.description]\n",
    "basic_rating = a.set_index('tconst')\n",
    "basic_rating"
   ]
  },
  {
   "cell_type": "markdown",
   "metadata": {},
   "source": [
    "Above, we've joined the two DataFrames we were interested in. We now have all the key columns necessary to address our research question."
   ]
  },
  {
   "cell_type": "markdown",
   "metadata": {},
   "source": [
    "## Feature-Engineering Title Length\n",
    "\n",
    "Now, we're going to refine this DataFrame a bit more. We don't want data from movies with too few votes, so let's drop anything with less than 100 and see where that leaves us."
   ]
  },
  {
   "cell_type": "code",
   "execution_count": 12,
   "metadata": {},
   "outputs": [
    {
     "data": {
      "text/html": [
       "<div>\n",
       "<style scoped>\n",
       "    .dataframe tbody tr th:only-of-type {\n",
       "        vertical-align: middle;\n",
       "    }\n",
       "\n",
       "    .dataframe tbody tr th {\n",
       "        vertical-align: top;\n",
       "    }\n",
       "\n",
       "    .dataframe thead th {\n",
       "        text-align: right;\n",
       "    }\n",
       "</style>\n",
       "<table border=\"1\" class=\"dataframe\">\n",
       "  <thead>\n",
       "    <tr style=\"text-align: right;\">\n",
       "      <th></th>\n",
       "      <th>primary_title</th>\n",
       "      <th>start_year</th>\n",
       "      <th>numvotes</th>\n",
       "      <th>averagerating</th>\n",
       "    </tr>\n",
       "    <tr>\n",
       "      <th>tconst</th>\n",
       "      <th></th>\n",
       "      <th></th>\n",
       "      <th></th>\n",
       "      <th></th>\n",
       "    </tr>\n",
       "  </thead>\n",
       "  <tbody>\n",
       "    <tr>\n",
       "      <td>tt0069049</td>\n",
       "      <td>The Other Side of the Wind</td>\n",
       "      <td>2018</td>\n",
       "      <td>4517</td>\n",
       "      <td>6.9</td>\n",
       "    </tr>\n",
       "    <tr>\n",
       "      <td>tt0100275</td>\n",
       "      <td>The Wandering Soap Opera</td>\n",
       "      <td>2017</td>\n",
       "      <td>119</td>\n",
       "      <td>6.5</td>\n",
       "    </tr>\n",
       "    <tr>\n",
       "      <td>tt0137204</td>\n",
       "      <td>Joe Finds Grace</td>\n",
       "      <td>2017</td>\n",
       "      <td>263</td>\n",
       "      <td>8.1</td>\n",
       "    </tr>\n",
       "    <tr>\n",
       "      <td>tt0146592</td>\n",
       "      <td>Pál Adrienn</td>\n",
       "      <td>2010</td>\n",
       "      <td>451</td>\n",
       "      <td>6.8</td>\n",
       "    </tr>\n",
       "    <tr>\n",
       "      <td>tt0162942</td>\n",
       "      <td>Children of the Green Dragon</td>\n",
       "      <td>2010</td>\n",
       "      <td>120</td>\n",
       "      <td>6.9</td>\n",
       "    </tr>\n",
       "  </tbody>\n",
       "</table>\n",
       "</div>"
      ],
      "text/plain": [
       "                          primary_title  start_year  numvotes  averagerating\n",
       "tconst                                                                      \n",
       "tt0069049    The Other Side of the Wind        2018      4517            6.9\n",
       "tt0100275      The Wandering Soap Opera        2017       119            6.5\n",
       "tt0137204               Joe Finds Grace        2017       263            8.1\n",
       "tt0146592                   Pál Adrienn        2010       451            6.8\n",
       "tt0162942  Children of the Green Dragon        2010       120            6.9"
      ]
     },
     "execution_count": 12,
     "metadata": {},
     "output_type": "execute_result"
    }
   ],
   "source": [
    "# We pass the DataFrame a Pandas series of booleans.\n",
    "# True values have 100+ votes and are kept.\n",
    "\n",
    "enough_votes = basic_rating.numvotes >= 100\n",
    "br2 = basic_rating[enough_votes]\n",
    "br2.head()"
   ]
  },
  {
   "cell_type": "markdown",
   "metadata": {},
   "source": [
    "Great! We still have a lot of data to work with, and have gotten rid of anything where there's not enough ratings to really be salient. But now we need to add a new column for title length. We'll be looking at number of words as opposed to number of letters. (This decision was made because the English syllabary is awfully messy and inconsistent in its average length. For example, a single syllable word can be as short as \"a\" or as long as \"strength.\" For this reason, whole words are a more reliable metric.)"
   ]
  },
  {
   "cell_type": "code",
   "execution_count": 13,
   "metadata": {},
   "outputs": [],
   "source": [
    "# Make an empty list to hold title lengths.\n",
    "# Make another list, that contains all the split titles in our DataFrame.\n",
    "# Use a for loop to populate the first list with the word-lengths of these titles.\n",
    "\n",
    "title_lengths = []\n",
    "split_titles = br2['primary_title'].str.split()\n",
    "for i in range(0,28753):\n",
    "    title_lengths.append(len(split_titles[i]))"
   ]
  },
  {
   "cell_type": "code",
   "execution_count": 14,
   "metadata": {},
   "outputs": [
    {
     "data": {
      "text/plain": [
       "[6, 4, 3, 2, 5]"
      ]
     },
     "execution_count": 14,
     "metadata": {},
     "output_type": "execute_result"
    }
   ],
   "source": [
    "# Check that it works\n",
    "\n",
    "title_lengths[:5]"
   ]
  },
  {
   "cell_type": "code",
   "execution_count": 19,
   "metadata": {},
   "outputs": [
    {
     "data": {
      "text/html": [
       "<div>\n",
       "<style scoped>\n",
       "    .dataframe tbody tr th:only-of-type {\n",
       "        vertical-align: middle;\n",
       "    }\n",
       "\n",
       "    .dataframe tbody tr th {\n",
       "        vertical-align: top;\n",
       "    }\n",
       "\n",
       "    .dataframe thead th {\n",
       "        text-align: right;\n",
       "    }\n",
       "</style>\n",
       "<table border=\"1\" class=\"dataframe\">\n",
       "  <thead>\n",
       "    <tr style=\"text-align: right;\">\n",
       "      <th></th>\n",
       "      <th>primary_title</th>\n",
       "      <th>start_year</th>\n",
       "      <th>numvotes</th>\n",
       "      <th>averagerating</th>\n",
       "      <th>title_length</th>\n",
       "    </tr>\n",
       "    <tr>\n",
       "      <th>tconst</th>\n",
       "      <th></th>\n",
       "      <th></th>\n",
       "      <th></th>\n",
       "      <th></th>\n",
       "      <th></th>\n",
       "    </tr>\n",
       "  </thead>\n",
       "  <tbody>\n",
       "    <tr>\n",
       "      <td>tt0069049</td>\n",
       "      <td>The Other Side of the Wind</td>\n",
       "      <td>2018</td>\n",
       "      <td>4517</td>\n",
       "      <td>6.9</td>\n",
       "      <td>6</td>\n",
       "    </tr>\n",
       "    <tr>\n",
       "      <td>tt0100275</td>\n",
       "      <td>The Wandering Soap Opera</td>\n",
       "      <td>2017</td>\n",
       "      <td>119</td>\n",
       "      <td>6.5</td>\n",
       "      <td>4</td>\n",
       "    </tr>\n",
       "    <tr>\n",
       "      <td>tt0137204</td>\n",
       "      <td>Joe Finds Grace</td>\n",
       "      <td>2017</td>\n",
       "      <td>263</td>\n",
       "      <td>8.1</td>\n",
       "      <td>3</td>\n",
       "    </tr>\n",
       "    <tr>\n",
       "      <td>tt0146592</td>\n",
       "      <td>Pál Adrienn</td>\n",
       "      <td>2010</td>\n",
       "      <td>451</td>\n",
       "      <td>6.8</td>\n",
       "      <td>2</td>\n",
       "    </tr>\n",
       "    <tr>\n",
       "      <td>tt0162942</td>\n",
       "      <td>Children of the Green Dragon</td>\n",
       "      <td>2010</td>\n",
       "      <td>120</td>\n",
       "      <td>6.9</td>\n",
       "      <td>5</td>\n",
       "    </tr>\n",
       "    <tr>\n",
       "      <td>...</td>\n",
       "      <td>...</td>\n",
       "      <td>...</td>\n",
       "      <td>...</td>\n",
       "      <td>...</td>\n",
       "      <td>...</td>\n",
       "    </tr>\n",
       "    <tr>\n",
       "      <td>tt9904844</td>\n",
       "      <td>Ott Tänak: The Movie</td>\n",
       "      <td>2019</td>\n",
       "      <td>218</td>\n",
       "      <td>8.7</td>\n",
       "      <td>4</td>\n",
       "    </tr>\n",
       "    <tr>\n",
       "      <td>tt9905412</td>\n",
       "      <td>Ottam</td>\n",
       "      <td>2019</td>\n",
       "      <td>505</td>\n",
       "      <td>8.1</td>\n",
       "      <td>1</td>\n",
       "    </tr>\n",
       "    <tr>\n",
       "      <td>tt9905462</td>\n",
       "      <td>Pengalila</td>\n",
       "      <td>2019</td>\n",
       "      <td>600</td>\n",
       "      <td>8.4</td>\n",
       "      <td>1</td>\n",
       "    </tr>\n",
       "    <tr>\n",
       "      <td>tt9911774</td>\n",
       "      <td>Padmavyuhathile Abhimanyu</td>\n",
       "      <td>2019</td>\n",
       "      <td>365</td>\n",
       "      <td>8.4</td>\n",
       "      <td>2</td>\n",
       "    </tr>\n",
       "    <tr>\n",
       "      <td>tt9914286</td>\n",
       "      <td>Sokagin Çocuklari</td>\n",
       "      <td>2019</td>\n",
       "      <td>136</td>\n",
       "      <td>8.7</td>\n",
       "      <td>2</td>\n",
       "    </tr>\n",
       "  </tbody>\n",
       "</table>\n",
       "<p>28753 rows × 5 columns</p>\n",
       "</div>"
      ],
      "text/plain": [
       "                          primary_title  start_year  numvotes  averagerating  \\\n",
       "tconst                                                                         \n",
       "tt0069049    The Other Side of the Wind        2018      4517            6.9   \n",
       "tt0100275      The Wandering Soap Opera        2017       119            6.5   \n",
       "tt0137204               Joe Finds Grace        2017       263            8.1   \n",
       "tt0146592                   Pál Adrienn        2010       451            6.8   \n",
       "tt0162942  Children of the Green Dragon        2010       120            6.9   \n",
       "...                                 ...         ...       ...            ...   \n",
       "tt9904844          Ott Tänak: The Movie        2019       218            8.7   \n",
       "tt9905412                         Ottam        2019       505            8.1   \n",
       "tt9905462                     Pengalila        2019       600            8.4   \n",
       "tt9911774     Padmavyuhathile Abhimanyu        2019       365            8.4   \n",
       "tt9914286             Sokagin Çocuklari        2019       136            8.7   \n",
       "\n",
       "           title_length  \n",
       "tconst                   \n",
       "tt0069049             6  \n",
       "tt0100275             4  \n",
       "tt0137204             3  \n",
       "tt0146592             2  \n",
       "tt0162942             5  \n",
       "...                 ...  \n",
       "tt9904844             4  \n",
       "tt9905412             1  \n",
       "tt9905462             1  \n",
       "tt9911774             2  \n",
       "tt9914286             2  \n",
       "\n",
       "[28753 rows x 5 columns]"
      ]
     },
     "execution_count": 19,
     "metadata": {},
     "output_type": "execute_result"
    }
   ],
   "source": [
    "# Create a new column using our title length list\n",
    "\n",
    "br2.loc[:,'title_length'] = title_lengths\n",
    "br2"
   ]
  },
  {
   "cell_type": "markdown",
   "metadata": {},
   "source": [
    "Sweet, looks good! Our features are engineered and ready to be plotted."
   ]
  },
  {
   "cell_type": "markdown",
   "metadata": {},
   "source": [
    "# Plotting The Data\n",
    "## Length And Average Rating\n",
    "\n",
    "First we'll use a violin plot to show **distribution of average ratings in relation to title length.** As you can see from the graph below, the title length of a film has very little bearing on the shape its ratings will take. Aside from films with titles of 11 or more words (of which there are not many), the violins are nearly identical.\n",
    "\n",
    "Note that the singular line at title length 16 is not an error, there is just only one movie in the database with that length title."
   ]
  },
  {
   "cell_type": "code",
   "execution_count": 16,
   "metadata": {},
   "outputs": [
    {
     "data": {
      "image/png": "[encoded data removed]",
      "text/plain": [
       "<Figure size 864x576 with 1 Axes>"
      ]
     },
     "metadata": {},
     "output_type": "display_data"
    }
   ],
   "source": [
    "sns.set(style=\"whitegrid\")\n",
    "ax = plt.subplots(figsize=(12,8))\n",
    "ax = sns.violinplot(x=br2['title_length'], y=br2['averagerating'], color='cornflowerblue')\n",
    "ax.set(xlabel='Words In Title', ylabel='Rating')\n",
    "ax.axes.set_title(\"Words In Film Titles Compared To Ratings\",fontsize=14);"
   ]
  },
  {
   "cell_type": "markdown",
   "metadata": {},
   "source": [
    "The plot below shows another angle of the same data, answering the question: **How many total ratings were submitted for all films of a certain title length?**"
   ]
  },
  {
   "cell_type": "markdown",
   "metadata": {},
   "source": [
    "## Length And Total Number Of Ratings\n",
    "\n",
    "This plot shows a shocking regularity resembling exponential decay from title length 2 to 16. Keep in mind though that this is more indicative of **how many films are being named these lengths** than **how often films of these lengths are being rated in the first place.** For this second point, we'll have to refer to the plot after this one."
   ]
  },
  {
   "cell_type": "code",
   "execution_count": 17,
   "metadata": {},
   "outputs": [
    {
     "data": {
      "image/png": "[encoded data removed]",
      "text/plain": [
       "<Figure size 720x576 with 1 Axes>"
      ]
     },
     "metadata": {},
     "output_type": "display_data"
    }
   ],
   "source": [
    "plt.subplots(figsize=(10,8))\n",
    "plt.plot(br2['title_length'].value_counts().sort_index(), linewidth=3)\n",
    "plt.xticks(ticks=(range(0,17)))\n",
    "plt.yticks(np.arange(0, 9000, 1000))\n",
    "plt.xlabel(\"Words In Title\")\n",
    "plt.ylabel(\"Total Number Of Ratings\")\n",
    "plt.title(\"Total Number Of Ratings For All Movies With Same Title Length\",fontsize=14);"
   ]
  },
  {
   "cell_type": "markdown",
   "metadata": {},
   "source": [
    "## Feature-Engineering Average Number Of Ratings For All Films Of Same Title Length\n",
    "\n",
    "I believe this to be a more interesting metric than the previous, though the previous was necessary to get us here. **Obviously,** the y-value for \"total number of ratings\" for all films with any given title length will be proportional to the amount of films that typically have that-length names.\n",
    "\n",
    "This metric, instead, **treats the title-length groups uniformly,** and answers the question: **Does one title-length group get reviewed more often PER FILM than any other group?**"
   ]
  },
  {
   "cell_type": "code",
   "execution_count": 32,
   "metadata": {},
   "outputs": [],
   "source": [
    "# New list to hold total ratings for all films with same length\n",
    "\n",
    "total_ratings_by_length = [0,0,0,0,0,0,0,0,0,0,0,0,0,0,0,0,0]\n",
    "\n",
    "for i in range(0,len(br2)):\n",
    "    votes = br2['numvotes'][i]\n",
    "    x = br2['title_length'][i]\n",
    "    total_ratings_by_length[x] += votes"
   ]
  },
  {
   "cell_type": "code",
   "execution_count": 45,
   "metadata": {},
   "outputs": [
    {
     "name": "stdout",
     "output_type": "stream",
     "text": [
      "[0, 64576317, 79132389, 50410027, 29589732, 18287981, 7579447, 4590349, 3946549, 541758, 253289, 72650, 20036, 2928, 1113, 6561, 198]\n"
     ]
    }
   ],
   "source": [
    "# Check that the list looks good. It does!\n",
    "print(total_ratings_by_length)"
   ]
  },
  {
   "cell_type": "code",
   "execution_count": 54,
   "metadata": {},
   "outputs": [],
   "source": [
    "# Do the same as above but make a list of how many movies for each title length\n",
    "\n",
    "total_films_w_length = [0,0,0,0,0,0,0,0,0,0,0,0,0,0,0,0,0]\n",
    "\n",
    "for i in range(0,len(br2)):\n",
    "    x = br2['title_length'][i]\n",
    "    total_films_w_length[x] += 1"
   ]
  },
  {
   "cell_type": "code",
   "execution_count": 55,
   "metadata": {},
   "outputs": [
    {
     "data": {
      "text/plain": [
       "[0, 6526, 8664, 6195, 3527, 1842, 923, 500, 262, 156, 79, 39, 20, 9, 3, 7, 1]"
      ]
     },
     "execution_count": 55,
     "metadata": {},
     "output_type": "execute_result"
    }
   ],
   "source": [
    "# Check this list too. All good!\n",
    "total_films_w_length"
   ]
  },
  {
   "cell_type": "code",
   "execution_count": 60,
   "metadata": {},
   "outputs": [],
   "source": [
    "# One last loop to make an average amount of ratings by title length\n",
    "\n",
    "avg_amnt_ratings = []\n",
    "\n",
    "for i in range(1,17):\n",
    "    ratings = total_ratings_by_length[i]\n",
    "    total = total_films_w_length[i]\n",
    "    x = (ratings/total)\n",
    "    avg_amnt_ratings.append(x)"
   ]
  },
  {
   "cell_type": "code",
   "execution_count": 62,
   "metadata": {},
   "outputs": [
    {
     "name": "stdout",
     "output_type": "stream",
     "text": [
      "[9895.237051792828, 9133.470567867036, 8137.21178369653, 8389.490218315848, 9928.328447339847, 8211.751895991332, 9180.698, 15063.164122137405, 3472.8076923076924, 3206.1898734177216, 1862.820512820513, 1001.8, 325.3333333333333, 371.0, 937.2857142857143, 198.0]\n"
     ]
    }
   ],
   "source": [
    "# Check the last list. All good!\n",
    "print(avg_amnt_ratings)"
   ]
  },
  {
   "cell_type": "markdown",
   "metadata": {},
   "source": [
    "## Plotting Average Number Of Ratings For All Films Of Same Title Length"
   ]
  },
  {
   "cell_type": "code",
   "execution_count": 85,
   "metadata": {},
   "outputs": [
    {
     "data": {
      "image/png": "[encoded data removed]",
      "text/plain": [
       "<Figure size 1008x720 with 1 Axes>"
      ]
     },
     "metadata": {},
     "output_type": "display_data"
    }
   ],
   "source": [
    "ax = plt.subplots(figsize=(14,10))\n",
    "lengths = list(range(1,17))\n",
    "colors = [\"cornflowerblue\" if (x < 10000) else 'darkorange' for x in avg_amnt_ratings] \n",
    "ax = sns.barplot(x=lengths, y=avg_amnt_ratings, palette=colors)                \n",
    "ax.set(xlabel='Words In Title', ylabel='Average Amount Of Ratings')\n",
    "ax.axes.set_title(\"Words In Film Titles Compared To Average Amount Of Ratings\",fontsize=14);"
   ]
  },
  {
   "cell_type": "markdown",
   "metadata": {},
   "source": [
    "As we can see from the plot above, title length **does** have a meaningful relationship with the amount of ratings a movie receives. In general, as title length increase, number of reviews decreases. But, there is an interesting outlier! Films with title length 8 are reviewed disproportionately more than any other group."
   ]
  },
  {
   "cell_type": "markdown",
   "metadata": {},
   "source": [
    "# Conclusion\n",
    "\n",
    "Will making your movie's title a certain length make it better? Probably not.\n",
    "\n",
    "But will its length have an effect on the amount of times it gets reviewed? Maybe. If your title is over eight words,tough luck--almost nobody reviews those movies. But give your movie an eight word title and you just might get lucky. Now, reviews aren't the **only** important metric, but visibility and public perception of a movie are still salient when it comes to determining long-term and repeat success (like with a franchise).\n",
    "\n",
    "## Further Research\n",
    "\n",
    "For further research I would like to delve into the relationships between title length and ROI, title length and budget (I have a sneaking suspicion Hollywood franchises hang out in the 1-8 word range), and the effect title length has in non-English markets."
   ]
  }
 ],
 "metadata": {
  "kernelspec": {
   "display_name": "Python [conda env:learn-env] *",
   "language": "python",
   "name": "conda-env-learn-env-py"
  },
  "language_info": {
   "codemirror_mode": {
    "name": "ipython",
    "version": 3
   },
   "file_extension": ".py",
   "mimetype": "text/x-python",
   "name": "python",
   "nbconvert_exporter": "python",
   "pygments_lexer": "ipython3",
   "version": "3.6.9"
  },
  "toc": {
   "base_numbering": 1,
   "nav_menu": {},
   "number_sections": true,
   "sideBar": true,
   "skip_h1_title": false,
   "title_cell": "Table of Contents",
   "title_sidebar": "Contents",
   "toc_cell": false,
   "toc_position": {},
   "toc_section_display": true,
   "toc_window_display": false
  },
  "varInspector": {
   "cols": {
    "lenName": 16,
    "lenType": 16,
    "lenVar": 40
   },
   "kernels_config": {
    "python": {
     "delete_cmd_postfix": "",
     "delete_cmd_prefix": "del ",
     "library": "var_list.py",
     "varRefreshCmd": "print(var_dic_list())"
    },
    "r": {
     "delete_cmd_postfix": ") ",
     "delete_cmd_prefix": "rm(",
     "library": "var_list.r",
     "varRefreshCmd": "cat(var_dic_list()) "
    }
   },
   "types_to_exclude": [
    "module",
    "function",
    "builtin_function_or_method",
    "instance",
    "_Feature"
   ],
   "window_display": false
  }
 },
 "nbformat": 4,
 "nbformat_minor": 2
}
