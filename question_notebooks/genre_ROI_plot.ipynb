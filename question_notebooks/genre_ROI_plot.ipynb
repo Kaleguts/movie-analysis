{
 "cells": [
  {
   "cell_type": "markdown",
   "metadata": {},
   "source": [
    "# Is there a genre with low market share and high ROI that Microsoft can tap into? "
   ]
  },
  {
   "cell_type": "markdown",
   "metadata": {},
   "source": [
    "## We begin by importing the data"
   ]
  },
  {
   "cell_type": "code",
   "execution_count": 1,
   "metadata": {},
   "outputs": [],
   "source": [
    "import pandas as pd\n",
    "import numpy as np\n",
    "from glob import glob\n",
    "import matplotlib.pyplot as plt\n",
    "import sqlite3\n",
    "import os\n",
    "import seaborn as sns\n",
    "%matplotlib inline "
   ]
  },
  {
   "cell_type": "markdown",
   "metadata": {},
   "source": [
    "## We will create an alias for the csv that we have cleaned.\n"
   ]
  },
  {
   "cell_type": "code",
   "execution_count": 3,
   "metadata": {},
   "outputs": [],
   "source": [
    "genre_ROI_df = pd.read_csv('zippedData/join_df_modified.csv')"
   ]
  },
  {
   "cell_type": "code",
   "execution_count": 4,
   "metadata": {
    "scrolled": true
   },
   "outputs": [
    {
     "data": {
      "text/html": [
       "<div>\n",
       "<style scoped>\n",
       "    .dataframe tbody tr th:only-of-type {\n",
       "        vertical-align: middle;\n",
       "    }\n",
       "\n",
       "    .dataframe tbody tr th {\n",
       "        vertical-align: top;\n",
       "    }\n",
       "\n",
       "    .dataframe thead th {\n",
       "        text-align: right;\n",
       "    }\n",
       "</style>\n",
       "<table border=\"1\" class=\"dataframe\">\n",
       "  <thead>\n",
       "    <tr style=\"text-align: right;\">\n",
       "      <th></th>\n",
       "      <th>Unnamed: 0</th>\n",
       "      <th>id</th>\n",
       "      <th>release_date</th>\n",
       "      <th>movie</th>\n",
       "      <th>production_budget</th>\n",
       "      <th>domestic_gross</th>\n",
       "      <th>worldwide_gross</th>\n",
       "      <th>overall_worldwide_profitability</th>\n",
       "      <th>overall_domestic_profitability</th>\n",
       "      <th>worldwide_ROI</th>\n",
       "      <th>...</th>\n",
       "      <th>Mystery</th>\n",
       "      <th>Horror</th>\n",
       "      <th>Animation</th>\n",
       "      <th>History</th>\n",
       "      <th>Comedy</th>\n",
       "      <th>Romance</th>\n",
       "      <th>Sci-Fi</th>\n",
       "      <th>Western</th>\n",
       "      <th>Family</th>\n",
       "      <th>Sport</th>\n",
       "    </tr>\n",
       "  </thead>\n",
       "  <tbody>\n",
       "    <tr>\n",
       "      <td>0</td>\n",
       "      <td>0</td>\n",
       "      <td>1</td>\n",
       "      <td>Dec 18, 2009</td>\n",
       "      <td>Avatar</td>\n",
       "      <td>425000000</td>\n",
       "      <td>760507625</td>\n",
       "      <td>2776345279</td>\n",
       "      <td>2351345279</td>\n",
       "      <td>335507625</td>\n",
       "      <td>553.257713</td>\n",
       "      <td>...</td>\n",
       "      <td>0.0</td>\n",
       "      <td>1.0</td>\n",
       "      <td>0.0</td>\n",
       "      <td>0.0</td>\n",
       "      <td>0.0</td>\n",
       "      <td>0.0</td>\n",
       "      <td>0.0</td>\n",
       "      <td>0.0</td>\n",
       "      <td>0.0</td>\n",
       "      <td>0.0</td>\n",
       "    </tr>\n",
       "    <tr>\n",
       "      <td>1</td>\n",
       "      <td>1</td>\n",
       "      <td>2</td>\n",
       "      <td>May 20, 2011</td>\n",
       "      <td>Pirates of the Caribbean: On Stranger Tides</td>\n",
       "      <td>410600000</td>\n",
       "      <td>241063875</td>\n",
       "      <td>1045663875</td>\n",
       "      <td>635063875</td>\n",
       "      <td>-169536125</td>\n",
       "      <td>154.667286</td>\n",
       "      <td>...</td>\n",
       "      <td>0.0</td>\n",
       "      <td>0.0</td>\n",
       "      <td>0.0</td>\n",
       "      <td>0.0</td>\n",
       "      <td>0.0</td>\n",
       "      <td>0.0</td>\n",
       "      <td>0.0</td>\n",
       "      <td>0.0</td>\n",
       "      <td>0.0</td>\n",
       "      <td>0.0</td>\n",
       "    </tr>\n",
       "    <tr>\n",
       "      <td>2</td>\n",
       "      <td>2</td>\n",
       "      <td>3</td>\n",
       "      <td>Jun 7, 2019</td>\n",
       "      <td>Dark Phoenix</td>\n",
       "      <td>350000000</td>\n",
       "      <td>42762350</td>\n",
       "      <td>149762350</td>\n",
       "      <td>-200237650</td>\n",
       "      <td>-307237650</td>\n",
       "      <td>-57.210757</td>\n",
       "      <td>...</td>\n",
       "      <td>0.0</td>\n",
       "      <td>0.0</td>\n",
       "      <td>0.0</td>\n",
       "      <td>0.0</td>\n",
       "      <td>0.0</td>\n",
       "      <td>0.0</td>\n",
       "      <td>1.0</td>\n",
       "      <td>0.0</td>\n",
       "      <td>0.0</td>\n",
       "      <td>0.0</td>\n",
       "    </tr>\n",
       "    <tr>\n",
       "      <td>3</td>\n",
       "      <td>3</td>\n",
       "      <td>4</td>\n",
       "      <td>May 1, 2015</td>\n",
       "      <td>Avengers: Age of Ultron</td>\n",
       "      <td>330600000</td>\n",
       "      <td>459005868</td>\n",
       "      <td>1403013963</td>\n",
       "      <td>1072413963</td>\n",
       "      <td>128405868</td>\n",
       "      <td>324.384139</td>\n",
       "      <td>...</td>\n",
       "      <td>0.0</td>\n",
       "      <td>0.0</td>\n",
       "      <td>0.0</td>\n",
       "      <td>0.0</td>\n",
       "      <td>0.0</td>\n",
       "      <td>0.0</td>\n",
       "      <td>1.0</td>\n",
       "      <td>0.0</td>\n",
       "      <td>0.0</td>\n",
       "      <td>0.0</td>\n",
       "    </tr>\n",
       "    <tr>\n",
       "      <td>4</td>\n",
       "      <td>6</td>\n",
       "      <td>7</td>\n",
       "      <td>Apr 27, 2018</td>\n",
       "      <td>Avengers: Infinity War</td>\n",
       "      <td>300000000</td>\n",
       "      <td>678815482</td>\n",
       "      <td>2048134200</td>\n",
       "      <td>1748134200</td>\n",
       "      <td>378815482</td>\n",
       "      <td>582.711400</td>\n",
       "      <td>...</td>\n",
       "      <td>0.0</td>\n",
       "      <td>0.0</td>\n",
       "      <td>0.0</td>\n",
       "      <td>0.0</td>\n",
       "      <td>0.0</td>\n",
       "      <td>0.0</td>\n",
       "      <td>1.0</td>\n",
       "      <td>0.0</td>\n",
       "      <td>0.0</td>\n",
       "      <td>0.0</td>\n",
       "    </tr>\n",
       "  </tbody>\n",
       "</table>\n",
       "<p>5 rows × 35 columns</p>\n",
       "</div>"
      ],
      "text/plain": [
       "   Unnamed: 0  id  release_date                                        movie  \\\n",
       "0           0   1  Dec 18, 2009                                       Avatar   \n",
       "1           1   2  May 20, 2011  Pirates of the Caribbean: On Stranger Tides   \n",
       "2           2   3   Jun 7, 2019                                 Dark Phoenix   \n",
       "3           3   4   May 1, 2015                      Avengers: Age of Ultron   \n",
       "4           6   7  Apr 27, 2018                       Avengers: Infinity War   \n",
       "\n",
       "   production_budget  domestic_gross  worldwide_gross  \\\n",
       "0          425000000       760507625       2776345279   \n",
       "1          410600000       241063875       1045663875   \n",
       "2          350000000        42762350        149762350   \n",
       "3          330600000       459005868       1403013963   \n",
       "4          300000000       678815482       2048134200   \n",
       "\n",
       "   overall_worldwide_profitability  overall_domestic_profitability  \\\n",
       "0                       2351345279                       335507625   \n",
       "1                        635063875                      -169536125   \n",
       "2                       -200237650                      -307237650   \n",
       "3                       1072413963                       128405868   \n",
       "4                       1748134200                       378815482   \n",
       "\n",
       "   worldwide_ROI  ...  Mystery  Horror  Animation  History  Comedy  Romance  \\\n",
       "0     553.257713  ...      0.0     1.0        0.0      0.0     0.0      0.0   \n",
       "1     154.667286  ...      0.0     0.0        0.0      0.0     0.0      0.0   \n",
       "2     -57.210757  ...      0.0     0.0        0.0      0.0     0.0      0.0   \n",
       "3     324.384139  ...      0.0     0.0        0.0      0.0     0.0      0.0   \n",
       "4     582.711400  ...      0.0     0.0        0.0      0.0     0.0      0.0   \n",
       "\n",
       "   Sci-Fi  Western  Family  Sport  \n",
       "0     0.0      0.0     0.0    0.0  \n",
       "1     0.0      0.0     0.0    0.0  \n",
       "2     1.0      0.0     0.0    0.0  \n",
       "3     1.0      0.0     0.0    0.0  \n",
       "4     1.0      0.0     0.0    0.0  \n",
       "\n",
       "[5 rows x 35 columns]"
      ]
     },
     "execution_count": 4,
     "metadata": {},
     "output_type": "execute_result"
    }
   ],
   "source": [
    "genre_ROI_df.head()"
   ]
  },
  {
   "cell_type": "markdown",
   "metadata": {},
   "source": [
    "### We will drop any columns unnecessary to what we want to plot, starting with this 'Unnamed: 0'"
   ]
  },
  {
   "cell_type": "code",
   "execution_count": 6,
   "metadata": {},
   "outputs": [],
   "source": [
    "genre_ROI_df.drop(columns=['Unnamed: 0'], inplace=True)"
   ]
  },
  {
   "cell_type": "code",
   "execution_count": 7,
   "metadata": {
    "scrolled": true
   },
   "outputs": [
    {
     "data": {
      "text/html": [
       "<div>\n",
       "<style scoped>\n",
       "    .dataframe tbody tr th:only-of-type {\n",
       "        vertical-align: middle;\n",
       "    }\n",
       "\n",
       "    .dataframe tbody tr th {\n",
       "        vertical-align: top;\n",
       "    }\n",
       "\n",
       "    .dataframe thead th {\n",
       "        text-align: right;\n",
       "    }\n",
       "</style>\n",
       "<table border=\"1\" class=\"dataframe\">\n",
       "  <thead>\n",
       "    <tr style=\"text-align: right;\">\n",
       "      <th></th>\n",
       "      <th>id</th>\n",
       "      <th>release_date</th>\n",
       "      <th>movie</th>\n",
       "      <th>production_budget</th>\n",
       "      <th>domestic_gross</th>\n",
       "      <th>worldwide_gross</th>\n",
       "      <th>overall_worldwide_profitability</th>\n",
       "      <th>overall_domestic_profitability</th>\n",
       "      <th>worldwide_ROI</th>\n",
       "      <th>domestic_ROI</th>\n",
       "      <th>...</th>\n",
       "      <th>Mystery</th>\n",
       "      <th>Horror</th>\n",
       "      <th>Animation</th>\n",
       "      <th>History</th>\n",
       "      <th>Comedy</th>\n",
       "      <th>Romance</th>\n",
       "      <th>Sci-Fi</th>\n",
       "      <th>Western</th>\n",
       "      <th>Family</th>\n",
       "      <th>Sport</th>\n",
       "    </tr>\n",
       "  </thead>\n",
       "  <tbody>\n",
       "    <tr>\n",
       "      <td>0</td>\n",
       "      <td>1</td>\n",
       "      <td>Dec 18, 2009</td>\n",
       "      <td>Avatar</td>\n",
       "      <td>425000000</td>\n",
       "      <td>760507625</td>\n",
       "      <td>2776345279</td>\n",
       "      <td>2351345279</td>\n",
       "      <td>335507625</td>\n",
       "      <td>553.257713</td>\n",
       "      <td>78.942971</td>\n",
       "      <td>...</td>\n",
       "      <td>0.0</td>\n",
       "      <td>1.0</td>\n",
       "      <td>0.0</td>\n",
       "      <td>0.0</td>\n",
       "      <td>0.0</td>\n",
       "      <td>0.0</td>\n",
       "      <td>0.0</td>\n",
       "      <td>0.0</td>\n",
       "      <td>0.0</td>\n",
       "      <td>0.0</td>\n",
       "    </tr>\n",
       "    <tr>\n",
       "      <td>1</td>\n",
       "      <td>2</td>\n",
       "      <td>May 20, 2011</td>\n",
       "      <td>Pirates of the Caribbean: On Stranger Tides</td>\n",
       "      <td>410600000</td>\n",
       "      <td>241063875</td>\n",
       "      <td>1045663875</td>\n",
       "      <td>635063875</td>\n",
       "      <td>-169536125</td>\n",
       "      <td>154.667286</td>\n",
       "      <td>-41.289850</td>\n",
       "      <td>...</td>\n",
       "      <td>0.0</td>\n",
       "      <td>0.0</td>\n",
       "      <td>0.0</td>\n",
       "      <td>0.0</td>\n",
       "      <td>0.0</td>\n",
       "      <td>0.0</td>\n",
       "      <td>0.0</td>\n",
       "      <td>0.0</td>\n",
       "      <td>0.0</td>\n",
       "      <td>0.0</td>\n",
       "    </tr>\n",
       "    <tr>\n",
       "      <td>2</td>\n",
       "      <td>3</td>\n",
       "      <td>Jun 7, 2019</td>\n",
       "      <td>Dark Phoenix</td>\n",
       "      <td>350000000</td>\n",
       "      <td>42762350</td>\n",
       "      <td>149762350</td>\n",
       "      <td>-200237650</td>\n",
       "      <td>-307237650</td>\n",
       "      <td>-57.210757</td>\n",
       "      <td>-87.782186</td>\n",
       "      <td>...</td>\n",
       "      <td>0.0</td>\n",
       "      <td>0.0</td>\n",
       "      <td>0.0</td>\n",
       "      <td>0.0</td>\n",
       "      <td>0.0</td>\n",
       "      <td>0.0</td>\n",
       "      <td>1.0</td>\n",
       "      <td>0.0</td>\n",
       "      <td>0.0</td>\n",
       "      <td>0.0</td>\n",
       "    </tr>\n",
       "    <tr>\n",
       "      <td>3</td>\n",
       "      <td>4</td>\n",
       "      <td>May 1, 2015</td>\n",
       "      <td>Avengers: Age of Ultron</td>\n",
       "      <td>330600000</td>\n",
       "      <td>459005868</td>\n",
       "      <td>1403013963</td>\n",
       "      <td>1072413963</td>\n",
       "      <td>128405868</td>\n",
       "      <td>324.384139</td>\n",
       "      <td>38.840250</td>\n",
       "      <td>...</td>\n",
       "      <td>0.0</td>\n",
       "      <td>0.0</td>\n",
       "      <td>0.0</td>\n",
       "      <td>0.0</td>\n",
       "      <td>0.0</td>\n",
       "      <td>0.0</td>\n",
       "      <td>1.0</td>\n",
       "      <td>0.0</td>\n",
       "      <td>0.0</td>\n",
       "      <td>0.0</td>\n",
       "    </tr>\n",
       "    <tr>\n",
       "      <td>4</td>\n",
       "      <td>7</td>\n",
       "      <td>Apr 27, 2018</td>\n",
       "      <td>Avengers: Infinity War</td>\n",
       "      <td>300000000</td>\n",
       "      <td>678815482</td>\n",
       "      <td>2048134200</td>\n",
       "      <td>1748134200</td>\n",
       "      <td>378815482</td>\n",
       "      <td>582.711400</td>\n",
       "      <td>126.271827</td>\n",
       "      <td>...</td>\n",
       "      <td>0.0</td>\n",
       "      <td>0.0</td>\n",
       "      <td>0.0</td>\n",
       "      <td>0.0</td>\n",
       "      <td>0.0</td>\n",
       "      <td>0.0</td>\n",
       "      <td>1.0</td>\n",
       "      <td>0.0</td>\n",
       "      <td>0.0</td>\n",
       "      <td>0.0</td>\n",
       "    </tr>\n",
       "  </tbody>\n",
       "</table>\n",
       "<p>5 rows × 34 columns</p>\n",
       "</div>"
      ],
      "text/plain": [
       "   id  release_date                                        movie  \\\n",
       "0   1  Dec 18, 2009                                       Avatar   \n",
       "1   2  May 20, 2011  Pirates of the Caribbean: On Stranger Tides   \n",
       "2   3   Jun 7, 2019                                 Dark Phoenix   \n",
       "3   4   May 1, 2015                      Avengers: Age of Ultron   \n",
       "4   7  Apr 27, 2018                       Avengers: Infinity War   \n",
       "\n",
       "   production_budget  domestic_gross  worldwide_gross  \\\n",
       "0          425000000       760507625       2776345279   \n",
       "1          410600000       241063875       1045663875   \n",
       "2          350000000        42762350        149762350   \n",
       "3          330600000       459005868       1403013963   \n",
       "4          300000000       678815482       2048134200   \n",
       "\n",
       "   overall_worldwide_profitability  overall_domestic_profitability  \\\n",
       "0                       2351345279                       335507625   \n",
       "1                        635063875                      -169536125   \n",
       "2                       -200237650                      -307237650   \n",
       "3                       1072413963                       128405868   \n",
       "4                       1748134200                       378815482   \n",
       "\n",
       "   worldwide_ROI  domestic_ROI  ...  Mystery  Horror  Animation  History  \\\n",
       "0     553.257713     78.942971  ...      0.0     1.0        0.0      0.0   \n",
       "1     154.667286    -41.289850  ...      0.0     0.0        0.0      0.0   \n",
       "2     -57.210757    -87.782186  ...      0.0     0.0        0.0      0.0   \n",
       "3     324.384139     38.840250  ...      0.0     0.0        0.0      0.0   \n",
       "4     582.711400    126.271827  ...      0.0     0.0        0.0      0.0   \n",
       "\n",
       "   Comedy  Romance  Sci-Fi  Western  Family  Sport  \n",
       "0     0.0      0.0     0.0      0.0     0.0    0.0  \n",
       "1     0.0      0.0     0.0      0.0     0.0    0.0  \n",
       "2     0.0      0.0     1.0      0.0     0.0    0.0  \n",
       "3     0.0      0.0     1.0      0.0     0.0    0.0  \n",
       "4     0.0      0.0     1.0      0.0     0.0    0.0  \n",
       "\n",
       "[5 rows x 34 columns]"
      ]
     },
     "execution_count": 7,
     "metadata": {},
     "output_type": "execute_result"
    }
   ],
   "source": [
    "genre_ROI_df.head()"
   ]
  },
  {
   "cell_type": "markdown",
   "metadata": {},
   "source": [
    "## We have already joined the two tables we will be using today during our data cleaning.\n",
    "- The two tables:\n",
    "    - The imdb_title_basics_df\n",
    "    - The tmdb_budgets_df\n",
    "- These two dataframes match best because they give the greatest combination of films with their gross and production budget.\n",
    "    - It is this information that allowed us to determine the ROI for each genre. "
   ]
  },
  {
   "cell_type": "markdown",
   "metadata": {},
   "source": [
    "# Time to plot our data!"
   ]
  },
  {
   "cell_type": "markdown",
   "metadata": {},
   "source": [
    "## In our initial plot, we examine the worldwide ROI of each genre that has between 2-6% of the market share as determined by our data.\n",
    "- We determined market share by dividing the count of each genre by the total number of films in our dataframe.\n",
    "- We feel that it is important to note that we are looking at such a small market share because we want to find a niche that Microsoft can fit into and still obtain a sizable ROI for its investors. \n",
    "- We want to explode onto the scene! \n",
    "- Below, we create a list of genres and, from there, create a dictionary to iterate through with genres as the key and ROI as the value.\n",
    "- We will use this to create a boxplot."
   ]
  },
  {
   "cell_type": "code",
   "execution_count": 146,
   "metadata": {},
   "outputs": [],
   "source": [
    "genres = [\"Animation\", \"Fantasy\", \"Sci-Fi\", \"Family\", \"Mystery\", \"Biography\", \n",
    "          \"Crime\", \"Romance\", \"Adventure\", \"Horror\"]\n",
    "dic = {}\n",
    "dic[\"genres\"] = []\n",
    "dic[\"roi\"] = []\n",
    "for index, row in genre_ROI_df.iterrows():\n",
    "    for i in genres:\n",
    "        if row[i] == 1:\n",
    "            dic[\"genres\"].append(i)\n",
    "            dic[\"roi\"].append(row['worldwide_ROI'])"
   ]
  },
  {
   "cell_type": "code",
   "execution_count": 150,
   "metadata": {},
   "outputs": [
    {
     "name": "stdout",
     "output_type": "stream",
     "text": [
      "         genres          roi\n",
      "0        Horror   553.257713\n",
      "1       Fantasy   154.667286\n",
      "2     Adventure   154.667286\n",
      "3        Sci-Fi   -57.210757\n",
      "4     Adventure   -57.210757\n",
      "...         ...          ...\n",
      "5848     Horror  -100.000000\n",
      "5849     Horror  1287.110000\n",
      "5850     Sci-Fi  -100.000000\n",
      "5851     Horror  -100.000000\n",
      "5852     Horror  -100.000000\n",
      "\n",
      "[5853 rows x 2 columns]\n"
     ]
    }
   ],
   "source": [
    "df = pd.DataFrame(dic)\n",
    "print(df)"
   ]
  },
  {
   "cell_type": "markdown",
   "metadata": {},
   "source": [
    "### Here we will use a box plot to show distribution of worldwide ROI for each genre as mentioned above. As you can see from the graph below, the ROI seems to be distributed nicely in the genres Animation, Adventure, and Fantasy.\n",
    "This boxplot sorted the genres from most prevalent to least prevalent. Horror is close to 6% market share according to our data while animation is closer to 2%. A few of the genres (horror, mystery, romance) have a distribution that skews in favor of a high ROI but we want to take a look at those genres whose median ROI is quite high and whose data distributes more symmetrically.\n",
    "\n",
    "To be clear about the boxplot: \n",
    "\n",
    "We set showfliers to False in the code below because the outliers for most of the genres were such that if we included them, the plot would be incredibly flat. This will be the case in our second plot as well when we take a closer look at our top three genres.The whiskers on either end of the box display the maximum and minimum values, barring any outliers, however the values within the box are most pertinent to our interests as they display 75% of our datasets.\n",
    "\n",
    "While some genres, like horror, romance, and mystery, may have some substantial maximum values, we decided not to consider them in our final results as we feel that the most important data lies with the median ROI. Diving into an underused genre may already carry its own risks, we want to make sure we can predict a solid ROI for our stakeholders."
   ]
  },
  {
   "cell_type": "code",
   "execution_count": 156,
   "metadata": {},
   "outputs": [
    {
     "data": {
      "text/plain": [
       "([<matplotlib.axis.YTick at 0x256b0c2c198>,\n",
       "  <matplotlib.axis.YTick at 0x256b0c1ca20>,\n",
       "  <matplotlib.axis.YTick at 0x256b0c258d0>,\n",
       "  <matplotlib.axis.YTick at 0x256b0e2c550>,\n",
       "  <matplotlib.axis.YTick at 0x256b0e2ca58>,\n",
       "  <matplotlib.axis.YTick at 0x256b0e2ce80>,\n",
       "  <matplotlib.axis.YTick at 0x256b0e36588>,\n",
       "  <matplotlib.axis.YTick at 0x256b0e36b00>,\n",
       "  <matplotlib.axis.YTick at 0x256b0e36940>,\n",
       "  <matplotlib.axis.YTick at 0x256b0e36518>,\n",
       "  <matplotlib.axis.YTick at 0x256b0e2c4e0>],\n",
       " <a list of 11 Text yticklabel objects>)"
      ]
     },
     "execution_count": 156,
     "metadata": {},
     "output_type": "execute_result"
    },
    {
     "data": {
      "image/png": "[encoded data removed]",
      "text/plain": [
       "<Figure size 864x504 with 1 Axes>"
      ]
     },
     "metadata": {},
     "output_type": "display_data"
    }
   ],
   "source": [
    "plt.figure(figsize=(12,7))\n",
    "sns.set_style('whitegrid')\n",
    "b=box_plot=sns.boxplot(data=df, x='genres', y='roi', \n",
    "                       order=[\"Horror\", \"Adventure\", \"Romance\", \n",
    "                              \"Crime\", \"Biography\", \"Mystery\", \n",
    "                              \"Family\", \"Sci-Fi\", \"Fantasy\", \"Animation\"], \n",
    "                       palette=\"Blues_r\", showfliers=False)\n",
    "b.axes.set_title(\"Worldwide ROI of Genres with Low Market Share\",fontsize=14)\n",
    "b.set_xlabel(\"Genres\",fontsize=13)\n",
    "b.set_ylabel(\"Worldwide ROI\",fontsize=12)\n",
    "b.tick_params(labelsize=10)\n",
    "yticks = np.linspace(start=0, stop=100*10, num=11)\n",
    "plt.yticks(yticks)"
   ]
  },
  {
   "cell_type": "markdown",
   "metadata": {},
   "source": [
    "## Below, we create another boxplot, this time with our most relevant information. We have discovered the three highest median ROIs with a small market share. \n",
    "\n",
    "These are the genres we feel should be a primary focus for Microsoft in their new venture. We organized our plot below by increasing median ROI as well as increasing distribution size and maximum value. "
   ]
  },
  {
   "cell_type": "code",
   "execution_count": 148,
   "metadata": {},
   "outputs": [
    {
     "name": "stdout",
     "output_type": "stream",
     "text": [
      "         genres          roi\n",
      "0        Horror   553.257713\n",
      "1       Fantasy   154.667286\n",
      "2     Adventure   154.667286\n",
      "3        Sci-Fi   -57.210757\n",
      "4     Adventure   -57.210757\n",
      "...         ...          ...\n",
      "5848     Horror  -100.000000\n",
      "5849     Horror  1287.110000\n",
      "5850     Sci-Fi  -100.000000\n",
      "5851     Horror  -100.000000\n",
      "5852     Horror  -100.000000\n",
      "\n",
      "[5853 rows x 2 columns]\n"
     ]
    }
   ],
   "source": [
    "df1 = pd.DataFrame(dic)\n",
    "print(df1)"
   ]
  },
  {
   "cell_type": "code",
   "execution_count": 154,
   "metadata": {},
   "outputs": [
    {
     "data": {
      "text/plain": [
       "([<matplotlib.axis.YTick at 0x256b1b40828>,\n",
       "  <matplotlib.axis.YTick at 0x256b1b400f0>,\n",
       "  <matplotlib.axis.YTick at 0x256b1b639b0>,\n",
       "  <matplotlib.axis.YTick at 0x256b0bb4eb8>,\n",
       "  <matplotlib.axis.YTick at 0x256b0bab3c8>,\n",
       "  <matplotlib.axis.YTick at 0x256b0bab8d0>,\n",
       "  <matplotlib.axis.YTick at 0x256b0babe48>,\n",
       "  <matplotlib.axis.YTick at 0x256b0ba6400>,\n",
       "  <matplotlib.axis.YTick at 0x256b0ba6978>,\n",
       "  <matplotlib.axis.YTick at 0x256b0ba6ef0>,\n",
       "  <matplotlib.axis.YTick at 0x256b0bab7f0>],\n",
       " <a list of 11 Text yticklabel objects>)"
      ]
     },
     "execution_count": 154,
     "metadata": {},
     "output_type": "execute_result"
    },
    {
     "data": {
      "image/png": "[encoded data removed]",
      "text/plain": [
       "<Figure size 864x504 with 1 Axes>"
      ]
     },
     "metadata": {},
     "output_type": "display_data"
    }
   ],
   "source": [
    "plt.figure(figsize=(12,7))\n",
    "sns.set_style('whitegrid')\n",
    "b=box_plot=sns.boxplot(data=df1, x='genres', y='roi', order=['Adventure', 'Fantasy', 'Animation'], palette=\"Blues_r\", \n",
    "                 showfliers=False)\n",
    "b.axes.set_title(\"Genres with Low Market Share and ROI over 100\",fontsize=14)\n",
    "b.set_xlabel(\"Genres\",fontsize=13)\n",
    "b.set_ylabel(\"Worldwide ROI\",fontsize=12)\n",
    "b.tick_params(labelsize=10)\n",
    "yticks = np.linspace(start=0, stop=100*10, num=11)\n",
    "plt.yticks(yticks)"
   ]
  },
  {
   "cell_type": "markdown",
   "metadata": {},
   "source": [
    "# Conclusion and Future Research Suggestions"
   ]
  },
  {
   "cell_type": "markdown",
   "metadata": {},
   "source": [
    "It may not come as a surprise that animation has a reliably high ROI as there have been a great many famous successes by studios like Disney and Dreamworks, its median ROI, 200, is twice as high as adventure and fantasy! In the future, it would be interesting to return to our analysis here and see if we can determine if we could obtain an even higher ROI by combining these genres together."
   ]
  }
 ],
 "metadata": {
  "kernelspec": {
   "display_name": "Python [conda env:learn-env] *",
   "language": "python",
   "name": "conda-env-learn-env-py"
  },
  "language_info": {
   "codemirror_mode": {
    "name": "ipython",
    "version": 3
   },
   "file_extension": ".py",
   "mimetype": "text/x-python",
   "name": "python",
   "nbconvert_exporter": "python",
   "pygments_lexer": "ipython3",
   "version": "3.6.9"
  },
  "toc": {
   "base_numbering": 1,
   "nav_menu": {},
   "number_sections": true,
   "sideBar": true,
   "skip_h1_title": false,
   "title_cell": "Table of Contents",
   "title_sidebar": "Contents",
   "toc_cell": false,
   "toc_position": {},
   "toc_section_display": true,
   "toc_window_display": false
  }
 },
 "nbformat": 4,
 "nbformat_minor": 2
}
