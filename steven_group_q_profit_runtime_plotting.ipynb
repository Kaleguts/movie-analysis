{
 "cells": [
  {
   "cell_type": "markdown",
   "metadata": {},
   "source": [
    "## Plotting For Group Question: Runtime & Profitability\n",
    "##### Steven Zych & Caleb Elgut\n",
    "This notebook takes the finished .csv file from the data cleaning notebook and uses it to produce plots that show the correlations between runtime & gross and runtime & ROI.\n",
    "\n",
    "---"
   ]
  },
  {
   "cell_type": "markdown",
   "metadata": {},
   "source": [
    "First we import our necessary libraries and the .csv file of our cleaned data."
   ]
  },
  {
   "cell_type": "code",
   "execution_count": 1,
   "metadata": {},
   "outputs": [],
   "source": [
    "import pandas as pd\n",
    "from glob import glob\n",
    "import numpy as np\n",
    "import matplotlib.pyplot as plt\n",
    "%matplotlib inline"
   ]
  },
  {
   "cell_type": "code",
   "execution_count": 2,
   "metadata": {},
   "outputs": [
    {
     "data": {
      "text/plain": [
       "1"
      ]
     },
     "execution_count": 2,
     "metadata": {},
     "output_type": "execute_result"
    }
   ],
   "source": [
    "csv_files = glob('zippedData/*.csv')\n",
    "csv_dfs = [pd.read_csv(f) for f in csv_files]\n",
    "len(csv_dfs)"
   ]
  },
  {
   "cell_type": "code",
   "execution_count": 3,
   "metadata": {},
   "outputs": [
    {
     "data": {
      "text/html": [
       "<div>\n",
       "<style scoped>\n",
       "    .dataframe tbody tr th:only-of-type {\n",
       "        vertical-align: middle;\n",
       "    }\n",
       "\n",
       "    .dataframe tbody tr th {\n",
       "        vertical-align: top;\n",
       "    }\n",
       "\n",
       "    .dataframe thead th {\n",
       "        text-align: right;\n",
       "    }\n",
       "</style>\n",
       "<table border=\"1\" class=\"dataframe\">\n",
       "  <thead>\n",
       "    <tr style=\"text-align: right;\">\n",
       "      <th></th>\n",
       "      <th>release_date</th>\n",
       "      <th>movie</th>\n",
       "      <th>production_budget</th>\n",
       "      <th>domestic_gross</th>\n",
       "      <th>worldwide_gross</th>\n",
       "      <th>tconst</th>\n",
       "      <th>start_year</th>\n",
       "      <th>runtime_minutes</th>\n",
       "      <th>genres</th>\n",
       "    </tr>\n",
       "  </thead>\n",
       "  <tbody>\n",
       "    <tr>\n",
       "      <td>0</td>\n",
       "      <td>May 20, 2011</td>\n",
       "      <td>Pirates of the Caribbean: On Stranger Tides</td>\n",
       "      <td>$410,600,000</td>\n",
       "      <td>$241,063,875</td>\n",
       "      <td>$1,045,663,875</td>\n",
       "      <td>tt1298650</td>\n",
       "      <td>2011</td>\n",
       "      <td>136.0</td>\n",
       "      <td>Action,Adventure,Fantasy</td>\n",
       "    </tr>\n",
       "    <tr>\n",
       "      <td>1</td>\n",
       "      <td>Jun 7, 2019</td>\n",
       "      <td>Dark Phoenix</td>\n",
       "      <td>$350,000,000</td>\n",
       "      <td>$42,762,350</td>\n",
       "      <td>$149,762,350</td>\n",
       "      <td>tt6565702</td>\n",
       "      <td>2019</td>\n",
       "      <td>113.0</td>\n",
       "      <td>Action,Adventure,Sci-Fi</td>\n",
       "    </tr>\n",
       "    <tr>\n",
       "      <td>2</td>\n",
       "      <td>May 1, 2015</td>\n",
       "      <td>Avengers: Age of Ultron</td>\n",
       "      <td>$330,600,000</td>\n",
       "      <td>$459,005,868</td>\n",
       "      <td>$1,403,013,963</td>\n",
       "      <td>tt2395427</td>\n",
       "      <td>2015</td>\n",
       "      <td>141.0</td>\n",
       "      <td>Action,Adventure,Sci-Fi</td>\n",
       "    </tr>\n",
       "    <tr>\n",
       "      <td>3</td>\n",
       "      <td>Apr 27, 2018</td>\n",
       "      <td>Avengers: Infinity War</td>\n",
       "      <td>$300,000,000</td>\n",
       "      <td>$678,815,482</td>\n",
       "      <td>$2,048,134,200</td>\n",
       "      <td>tt4154756</td>\n",
       "      <td>2018</td>\n",
       "      <td>149.0</td>\n",
       "      <td>Action,Adventure,Sci-Fi</td>\n",
       "    </tr>\n",
       "    <tr>\n",
       "      <td>4</td>\n",
       "      <td>Nov 17, 2017</td>\n",
       "      <td>Justice League</td>\n",
       "      <td>$300,000,000</td>\n",
       "      <td>$229,024,295</td>\n",
       "      <td>$655,945,209</td>\n",
       "      <td>tt0974015</td>\n",
       "      <td>2017</td>\n",
       "      <td>120.0</td>\n",
       "      <td>Action,Adventure,Fantasy</td>\n",
       "    </tr>\n",
       "    <tr>\n",
       "      <td>...</td>\n",
       "      <td>...</td>\n",
       "      <td>...</td>\n",
       "      <td>...</td>\n",
       "      <td>...</td>\n",
       "      <td>...</td>\n",
       "      <td>...</td>\n",
       "      <td>...</td>\n",
       "      <td>...</td>\n",
       "      <td>...</td>\n",
       "    </tr>\n",
       "    <tr>\n",
       "      <td>1514</td>\n",
       "      <td>Jan 27, 2017</td>\n",
       "      <td>Emily</td>\n",
       "      <td>$27,000</td>\n",
       "      <td>$3,547</td>\n",
       "      <td>$3,547</td>\n",
       "      <td>tt4393036</td>\n",
       "      <td>2017</td>\n",
       "      <td>83.0</td>\n",
       "      <td>Drama</td>\n",
       "    </tr>\n",
       "    <tr>\n",
       "      <td>1515</td>\n",
       "      <td>Sep 1, 2015</td>\n",
       "      <td>Exeter</td>\n",
       "      <td>$25,000</td>\n",
       "      <td>$0</td>\n",
       "      <td>$489,792</td>\n",
       "      <td>tt1945044</td>\n",
       "      <td>2015</td>\n",
       "      <td>91.0</td>\n",
       "      <td>Horror,Mystery,Thriller</td>\n",
       "    </tr>\n",
       "    <tr>\n",
       "      <td>1516</td>\n",
       "      <td>Dec 1, 2015</td>\n",
       "      <td>Dutch Kills</td>\n",
       "      <td>$25,000</td>\n",
       "      <td>$0</td>\n",
       "      <td>$0</td>\n",
       "      <td>tt2759066</td>\n",
       "      <td>2015</td>\n",
       "      <td>90.0</td>\n",
       "      <td>Crime,Drama,Thriller</td>\n",
       "    </tr>\n",
       "    <tr>\n",
       "      <td>1517</td>\n",
       "      <td>Nov 25, 2011</td>\n",
       "      <td>The Ridges</td>\n",
       "      <td>$17,300</td>\n",
       "      <td>$0</td>\n",
       "      <td>$0</td>\n",
       "      <td>tt1781935</td>\n",
       "      <td>2011</td>\n",
       "      <td>89.0</td>\n",
       "      <td>Drama,Horror,Thriller</td>\n",
       "    </tr>\n",
       "    <tr>\n",
       "      <td>1518</td>\n",
       "      <td>Dec 31, 2014</td>\n",
       "      <td>Stories of Our Lives</td>\n",
       "      <td>$15,000</td>\n",
       "      <td>$0</td>\n",
       "      <td>$0</td>\n",
       "      <td>tt3973612</td>\n",
       "      <td>2014</td>\n",
       "      <td>60.0</td>\n",
       "      <td>Drama</td>\n",
       "    </tr>\n",
       "  </tbody>\n",
       "</table>\n",
       "<p>1519 rows × 9 columns</p>\n",
       "</div>"
      ],
      "text/plain": [
       "      release_date                                        movie  \\\n",
       "0     May 20, 2011  Pirates of the Caribbean: On Stranger Tides   \n",
       "1      Jun 7, 2019                                 Dark Phoenix   \n",
       "2      May 1, 2015                      Avengers: Age of Ultron   \n",
       "3     Apr 27, 2018                       Avengers: Infinity War   \n",
       "4     Nov 17, 2017                               Justice League   \n",
       "...            ...                                          ...   \n",
       "1514  Jan 27, 2017                                        Emily   \n",
       "1515   Sep 1, 2015                                       Exeter   \n",
       "1516   Dec 1, 2015                                  Dutch Kills   \n",
       "1517  Nov 25, 2011                                   The Ridges   \n",
       "1518  Dec 31, 2014                         Stories of Our Lives   \n",
       "\n",
       "     production_budget domestic_gross worldwide_gross     tconst  start_year  \\\n",
       "0         $410,600,000   $241,063,875  $1,045,663,875  tt1298650        2011   \n",
       "1         $350,000,000    $42,762,350    $149,762,350  tt6565702        2019   \n",
       "2         $330,600,000   $459,005,868  $1,403,013,963  tt2395427        2015   \n",
       "3         $300,000,000   $678,815,482  $2,048,134,200  tt4154756        2018   \n",
       "4         $300,000,000   $229,024,295    $655,945,209  tt0974015        2017   \n",
       "...                ...            ...             ...        ...         ...   \n",
       "1514           $27,000         $3,547          $3,547  tt4393036        2017   \n",
       "1515           $25,000             $0        $489,792  tt1945044        2015   \n",
       "1516           $25,000             $0              $0  tt2759066        2015   \n",
       "1517           $17,300             $0              $0  tt1781935        2011   \n",
       "1518           $15,000             $0              $0  tt3973612        2014   \n",
       "\n",
       "      runtime_minutes                    genres  \n",
       "0               136.0  Action,Adventure,Fantasy  \n",
       "1               113.0   Action,Adventure,Sci-Fi  \n",
       "2               141.0   Action,Adventure,Sci-Fi  \n",
       "3               149.0   Action,Adventure,Sci-Fi  \n",
       "4               120.0  Action,Adventure,Fantasy  \n",
       "...               ...                       ...  \n",
       "1514             83.0                     Drama  \n",
       "1515             91.0   Horror,Mystery,Thriller  \n",
       "1516             90.0      Crime,Drama,Thriller  \n",
       "1517             89.0     Drama,Horror,Thriller  \n",
       "1518             60.0                     Drama  \n",
       "\n",
       "[1519 rows x 9 columns]"
      ]
     },
     "execution_count": 3,
     "metadata": {},
     "output_type": "execute_result"
    }
   ],
   "source": [
    "# Drop an erroneous column that appeared while exporting the .csv file previously.\n",
    "\n",
    "df = csv_dfs[0].drop('Unnamed: 0', axis = 1)\n",
    "df"
   ]
  },
  {
   "cell_type": "code",
   "execution_count": 4,
   "metadata": {},
   "outputs": [],
   "source": [
    "# This code strips the punctuation from our money columns,\n",
    "# which are currently stored as strings, and casts them\n",
    "# as integers which we can work with mathematically.\n",
    "\n",
    "def convert_amt_to_int(df, col):\n",
    "    df[col] = df[col].str.replace(\"$\", \"\").str.replace(\",\", \"\").astype('int')\n",
    "    return df\n",
    "\n",
    "money_cols = ['production_budget', 'domestic_gross', 'worldwide_gross']\n",
    "\n",
    "for col in money_cols:\n",
    "    df = convert_amt_to_int(df, col)"
   ]
  },
  {
   "cell_type": "code",
   "execution_count": 5,
   "metadata": {},
   "outputs": [
    {
     "data": {
      "text/html": [
       "<div>\n",
       "<style scoped>\n",
       "    .dataframe tbody tr th:only-of-type {\n",
       "        vertical-align: middle;\n",
       "    }\n",
       "\n",
       "    .dataframe tbody tr th {\n",
       "        vertical-align: top;\n",
       "    }\n",
       "\n",
       "    .dataframe thead th {\n",
       "        text-align: right;\n",
       "    }\n",
       "</style>\n",
       "<table border=\"1\" class=\"dataframe\">\n",
       "  <thead>\n",
       "    <tr style=\"text-align: right;\">\n",
       "      <th></th>\n",
       "      <th>release_date</th>\n",
       "      <th>movie</th>\n",
       "      <th>production_budget</th>\n",
       "      <th>domestic_gross</th>\n",
       "      <th>worldwide_gross</th>\n",
       "      <th>tconst</th>\n",
       "      <th>start_year</th>\n",
       "      <th>runtime_minutes</th>\n",
       "      <th>genres</th>\n",
       "    </tr>\n",
       "  </thead>\n",
       "  <tbody>\n",
       "    <tr>\n",
       "      <td>0</td>\n",
       "      <td>May 20, 2011</td>\n",
       "      <td>Pirates of the Caribbean: On Stranger Tides</td>\n",
       "      <td>410600000</td>\n",
       "      <td>241063875</td>\n",
       "      <td>1045663875</td>\n",
       "      <td>tt1298650</td>\n",
       "      <td>2011</td>\n",
       "      <td>136.0</td>\n",
       "      <td>Action,Adventure,Fantasy</td>\n",
       "    </tr>\n",
       "    <tr>\n",
       "      <td>1</td>\n",
       "      <td>Jun 7, 2019</td>\n",
       "      <td>Dark Phoenix</td>\n",
       "      <td>350000000</td>\n",
       "      <td>42762350</td>\n",
       "      <td>149762350</td>\n",
       "      <td>tt6565702</td>\n",
       "      <td>2019</td>\n",
       "      <td>113.0</td>\n",
       "      <td>Action,Adventure,Sci-Fi</td>\n",
       "    </tr>\n",
       "    <tr>\n",
       "      <td>2</td>\n",
       "      <td>May 1, 2015</td>\n",
       "      <td>Avengers: Age of Ultron</td>\n",
       "      <td>330600000</td>\n",
       "      <td>459005868</td>\n",
       "      <td>1403013963</td>\n",
       "      <td>tt2395427</td>\n",
       "      <td>2015</td>\n",
       "      <td>141.0</td>\n",
       "      <td>Action,Adventure,Sci-Fi</td>\n",
       "    </tr>\n",
       "    <tr>\n",
       "      <td>3</td>\n",
       "      <td>Apr 27, 2018</td>\n",
       "      <td>Avengers: Infinity War</td>\n",
       "      <td>300000000</td>\n",
       "      <td>678815482</td>\n",
       "      <td>2048134200</td>\n",
       "      <td>tt4154756</td>\n",
       "      <td>2018</td>\n",
       "      <td>149.0</td>\n",
       "      <td>Action,Adventure,Sci-Fi</td>\n",
       "    </tr>\n",
       "    <tr>\n",
       "      <td>4</td>\n",
       "      <td>Nov 17, 2017</td>\n",
       "      <td>Justice League</td>\n",
       "      <td>300000000</td>\n",
       "      <td>229024295</td>\n",
       "      <td>655945209</td>\n",
       "      <td>tt0974015</td>\n",
       "      <td>2017</td>\n",
       "      <td>120.0</td>\n",
       "      <td>Action,Adventure,Fantasy</td>\n",
       "    </tr>\n",
       "  </tbody>\n",
       "</table>\n",
       "</div>"
      ],
      "text/plain": [
       "   release_date                                        movie  \\\n",
       "0  May 20, 2011  Pirates of the Caribbean: On Stranger Tides   \n",
       "1   Jun 7, 2019                                 Dark Phoenix   \n",
       "2   May 1, 2015                      Avengers: Age of Ultron   \n",
       "3  Apr 27, 2018                       Avengers: Infinity War   \n",
       "4  Nov 17, 2017                               Justice League   \n",
       "\n",
       "   production_budget  domestic_gross  worldwide_gross     tconst  start_year  \\\n",
       "0          410600000       241063875       1045663875  tt1298650        2011   \n",
       "1          350000000        42762350        149762350  tt6565702        2019   \n",
       "2          330600000       459005868       1403013963  tt2395427        2015   \n",
       "3          300000000       678815482       2048134200  tt4154756        2018   \n",
       "4          300000000       229024295        655945209  tt0974015        2017   \n",
       "\n",
       "   runtime_minutes                    genres  \n",
       "0            136.0  Action,Adventure,Fantasy  \n",
       "1            113.0   Action,Adventure,Sci-Fi  \n",
       "2            141.0   Action,Adventure,Sci-Fi  \n",
       "3            149.0   Action,Adventure,Sci-Fi  \n",
       "4            120.0  Action,Adventure,Fantasy  "
      ]
     },
     "execution_count": 5,
     "metadata": {},
     "output_type": "execute_result"
    }
   ],
   "source": [
    "# Printing the head to confirm the strings became int.\n",
    "# They did!\n",
    "\n",
    "df.head()"
   ]
  },
  {
   "cell_type": "markdown",
   "metadata": {},
   "source": [
    "We're going to calculate ROI (return on investment) real quick as a better metric of success."
   ]
  },
  {
   "cell_type": "code",
   "execution_count": 6,
   "metadata": {},
   "outputs": [],
   "source": [
    "# Open two lists to hold our ROI values.\n",
    "roi_list_domestic = []\n",
    "roi_list_worldwide = []\n",
    "\n",
    "# Use a for loop to iterate over the DataFrame and produce a value for each\n",
    "# list from each row.\n",
    "for i in range(0,1519):\n",
    "    prod = df['production_budget'][i]\n",
    "    \n",
    "#   Loop for domestic ROI\n",
    "    domestic_gross = df['domestic_gross'][i]\n",
    "    roi_d = ((domestic_gross-prod)/prod)*100\n",
    "    roi_list_domestic.append(roi_d)\n",
    "    \n",
    "#   Loop for worldwide ROI\n",
    "    worldwide_gross = df['worldwide_gross'][i]\n",
    "    roi_g = ((worldwide_gross-prod)/prod)*100\n",
    "    roi_list_worldwide.append(roi_g)"
   ]
  },
  {
   "cell_type": "markdown",
   "metadata": {},
   "source": [
    "Let's check that these numbers make sense. The first two movies in our DataFrame flopped domestically, and consequently show negative values (remember these are percents) for their ROI. The next one was a domestic success, etc. The numbers make sense!"
   ]
  },
  {
   "cell_type": "code",
   "execution_count": 7,
   "metadata": {},
   "outputs": [
    {
     "name": "stdout",
     "output_type": "stream",
     "text": [
      "[-41.28985021919143, -87.7821857142857, 38.84025045372051, 126.27182733333333, -23.65856833333333]\n",
      "[154.6672856794934, -57.21075714285714, 324.38413883847545, 582.7114, 118.64840299999999]\n"
     ]
    }
   ],
   "source": [
    "print(roi_list_domestic[0:5])\n",
    "print(roi_list_worldwide[0:5])"
   ]
  },
  {
   "cell_type": "markdown",
   "metadata": {},
   "source": [
    "Now we add those lists as columns to our DataFrame."
   ]
  },
  {
   "cell_type": "code",
   "execution_count": 8,
   "metadata": {},
   "outputs": [],
   "source": [
    "df['roi_d'] = roi_list_domestic"
   ]
  },
  {
   "cell_type": "code",
   "execution_count": 9,
   "metadata": {},
   "outputs": [],
   "source": [
    "df['roi_w'] = roi_list_worldwide"
   ]
  },
  {
   "cell_type": "code",
   "execution_count": 10,
   "metadata": {},
   "outputs": [
    {
     "data": {
      "text/html": [
       "<div>\n",
       "<style scoped>\n",
       "    .dataframe tbody tr th:only-of-type {\n",
       "        vertical-align: middle;\n",
       "    }\n",
       "\n",
       "    .dataframe tbody tr th {\n",
       "        vertical-align: top;\n",
       "    }\n",
       "\n",
       "    .dataframe thead th {\n",
       "        text-align: right;\n",
       "    }\n",
       "</style>\n",
       "<table border=\"1\" class=\"dataframe\">\n",
       "  <thead>\n",
       "    <tr style=\"text-align: right;\">\n",
       "      <th></th>\n",
       "      <th>release_date</th>\n",
       "      <th>movie</th>\n",
       "      <th>production_budget</th>\n",
       "      <th>domestic_gross</th>\n",
       "      <th>worldwide_gross</th>\n",
       "      <th>tconst</th>\n",
       "      <th>start_year</th>\n",
       "      <th>runtime_minutes</th>\n",
       "      <th>genres</th>\n",
       "      <th>roi_d</th>\n",
       "      <th>roi_w</th>\n",
       "    </tr>\n",
       "  </thead>\n",
       "  <tbody>\n",
       "    <tr>\n",
       "      <td>0</td>\n",
       "      <td>May 20, 2011</td>\n",
       "      <td>Pirates of the Caribbean: On Stranger Tides</td>\n",
       "      <td>410600000</td>\n",
       "      <td>241063875</td>\n",
       "      <td>1045663875</td>\n",
       "      <td>tt1298650</td>\n",
       "      <td>2011</td>\n",
       "      <td>136.0</td>\n",
       "      <td>Action,Adventure,Fantasy</td>\n",
       "      <td>-41.289850</td>\n",
       "      <td>154.667286</td>\n",
       "    </tr>\n",
       "    <tr>\n",
       "      <td>1</td>\n",
       "      <td>Jun 7, 2019</td>\n",
       "      <td>Dark Phoenix</td>\n",
       "      <td>350000000</td>\n",
       "      <td>42762350</td>\n",
       "      <td>149762350</td>\n",
       "      <td>tt6565702</td>\n",
       "      <td>2019</td>\n",
       "      <td>113.0</td>\n",
       "      <td>Action,Adventure,Sci-Fi</td>\n",
       "      <td>-87.782186</td>\n",
       "      <td>-57.210757</td>\n",
       "    </tr>\n",
       "    <tr>\n",
       "      <td>2</td>\n",
       "      <td>May 1, 2015</td>\n",
       "      <td>Avengers: Age of Ultron</td>\n",
       "      <td>330600000</td>\n",
       "      <td>459005868</td>\n",
       "      <td>1403013963</td>\n",
       "      <td>tt2395427</td>\n",
       "      <td>2015</td>\n",
       "      <td>141.0</td>\n",
       "      <td>Action,Adventure,Sci-Fi</td>\n",
       "      <td>38.840250</td>\n",
       "      <td>324.384139</td>\n",
       "    </tr>\n",
       "    <tr>\n",
       "      <td>3</td>\n",
       "      <td>Apr 27, 2018</td>\n",
       "      <td>Avengers: Infinity War</td>\n",
       "      <td>300000000</td>\n",
       "      <td>678815482</td>\n",
       "      <td>2048134200</td>\n",
       "      <td>tt4154756</td>\n",
       "      <td>2018</td>\n",
       "      <td>149.0</td>\n",
       "      <td>Action,Adventure,Sci-Fi</td>\n",
       "      <td>126.271827</td>\n",
       "      <td>582.711400</td>\n",
       "    </tr>\n",
       "    <tr>\n",
       "      <td>4</td>\n",
       "      <td>Nov 17, 2017</td>\n",
       "      <td>Justice League</td>\n",
       "      <td>300000000</td>\n",
       "      <td>229024295</td>\n",
       "      <td>655945209</td>\n",
       "      <td>tt0974015</td>\n",
       "      <td>2017</td>\n",
       "      <td>120.0</td>\n",
       "      <td>Action,Adventure,Fantasy</td>\n",
       "      <td>-23.658568</td>\n",
       "      <td>118.648403</td>\n",
       "    </tr>\n",
       "  </tbody>\n",
       "</table>\n",
       "</div>"
      ],
      "text/plain": [
       "   release_date                                        movie  \\\n",
       "0  May 20, 2011  Pirates of the Caribbean: On Stranger Tides   \n",
       "1   Jun 7, 2019                                 Dark Phoenix   \n",
       "2   May 1, 2015                      Avengers: Age of Ultron   \n",
       "3  Apr 27, 2018                       Avengers: Infinity War   \n",
       "4  Nov 17, 2017                               Justice League   \n",
       "\n",
       "   production_budget  domestic_gross  worldwide_gross     tconst  start_year  \\\n",
       "0          410600000       241063875       1045663875  tt1298650        2011   \n",
       "1          350000000        42762350        149762350  tt6565702        2019   \n",
       "2          330600000       459005868       1403013963  tt2395427        2015   \n",
       "3          300000000       678815482       2048134200  tt4154756        2018   \n",
       "4          300000000       229024295        655945209  tt0974015        2017   \n",
       "\n",
       "   runtime_minutes                    genres       roi_d       roi_w  \n",
       "0            136.0  Action,Adventure,Fantasy  -41.289850  154.667286  \n",
       "1            113.0   Action,Adventure,Sci-Fi  -87.782186  -57.210757  \n",
       "2            141.0   Action,Adventure,Sci-Fi   38.840250  324.384139  \n",
       "3            149.0   Action,Adventure,Sci-Fi  126.271827  582.711400  \n",
       "4            120.0  Action,Adventure,Fantasy  -23.658568  118.648403  "
      ]
     },
     "execution_count": 10,
     "metadata": {},
     "output_type": "execute_result"
    }
   ],
   "source": [
    "df.head()"
   ]
  },
  {
   "cell_type": "markdown",
   "metadata": {},
   "source": [
    "### Time to visualize!\n",
    "Let's make some basic plots to look at runtime's relaitonships.\n",
    "###### Note: One film (The Gallows, 2015) was so successful it was omitted from the following plots. It had an ROI of over 22,000% and its presence on the graph stretched the y-axis so thin the rest of the scatter plot became a pancake."
   ]
  },
  {
   "cell_type": "code",
   "execution_count": 11,
   "metadata": {},
   "outputs": [
    {
     "data": {
      "image/png": "[encoded data removed]",
      "text/plain": [
       "<Figure size 864x720 with 1 Axes>"
      ]
     },
     "metadata": {
      "needs_background": "light"
     },
     "output_type": "display_data"
    }
   ],
   "source": [
    "# Domestic ROI vs. runtime\n",
    "# Orange lines are medians\n",
    "x = df.runtime_minutes\n",
    "y = df.roi_d\n",
    "plt.figure(figsize=(12,10))\n",
    "plt.scatter(x,y)\n",
    "plt.axvline(df.runtime_minutes.median(), color='orange')\n",
    "plt.axhline(df.roi_d.median(), color='orange')\n",
    "plt.ylim(-100,4000)\n",
    "plt.xlabel('Runtime')\n",
    "plt.ylabel('Domestic ROI')\n",
    "plt.show()"
   ]
  },
  {
   "cell_type": "markdown",
   "metadata": {},
   "source": [
    "Sidenote: The ROI for just domestic releases has a median of just below 0. Release those movies worldwide!"
   ]
  },
  {
   "cell_type": "code",
   "execution_count": 12,
   "metadata": {},
   "outputs": [
    {
     "data": {
      "image/png": "[encoded data removed]",
      "text/plain": [
       "<Figure size 864x720 with 1 Axes>"
      ]
     },
     "metadata": {
      "needs_background": "light"
     },
     "output_type": "display_data"
    }
   ],
   "source": [
    "# Worldwide ROI vs. runtime\n",
    "# Blue lines are medians\n",
    "x = df.runtime_minutes\n",
    "y = df.roi_w\n",
    "plt.figure(figsize=(12,10))\n",
    "plt.scatter(x,y, color='orange')\n",
    "plt.axvline(df.runtime_minutes.median())\n",
    "plt.axhline(df.roi_w.median())\n",
    "plt.ylim(-100,4000)\n",
    "plt.xlabel('Runtime')\n",
    "plt.ylabel('Worldwide ROI')\n",
    "plt.show()"
   ]
  },
  {
   "cell_type": "markdown",
   "metadata": {},
   "source": [
    "We see a higher median on ROI when we release worldwide and generally higher ROI values. (Worldwide includes domestic, by the way.) Runtime isn't seeming to have a massive effect on ROI, however.\n",
    "\n",
    "Most the best-ROI films are within the same range of runtimes where almost all other films are. In other words, we cannot generalize that \"Films between ~80 and ~140 minutes have higher ROI than films outside that range\" when there are comparatively few films outside that range at all.\n",
    "\n",
    "Let's instead get more granular, and look at ROI/min and bin that data by value counts."
   ]
  },
  {
   "cell_type": "code",
   "execution_count": 16,
   "metadata": {},
   "outputs": [
    {
     "data": {
      "text/plain": [
       "119"
      ]
     },
     "execution_count": 16,
     "metadata": {},
     "output_type": "execute_result"
    }
   ],
   "source": [
    "# Too many unique runtimes to make separate bins for each.\n",
    "# We'll instead bin them in 30 minute chunks.\n",
    "df.runtime_minutes.nunique()"
   ]
  },
  {
   "cell_type": "code",
   "execution_count": 22,
   "metadata": {},
   "outputs": [
    {
     "data": {
      "text/plain": [
       "count    1519.000000\n",
       "mean      106.753785\n",
       "std        19.101972\n",
       "min         4.000000\n",
       "25%        94.000000\n",
       "50%       105.000000\n",
       "75%       117.500000\n",
       "max       180.000000\n",
       "Name: runtime_minutes, dtype: float64"
      ]
     },
     "execution_count": 22,
     "metadata": {},
     "output_type": "execute_result"
    }
   ],
   "source": [
    "# Our spread of runtimes is 4-180 min. We'll end up with 6 bins.\n",
    "df.runtime_minutes.describe()"
   ]
  },
  {
   "cell_type": "code",
   "execution_count": 41,
   "metadata": {},
   "outputs": [
    {
     "data": {
      "text/plain": [
       "[5.0, 4.0, 5.0, 5.0, 5.0]"
      ]
     },
     "execution_count": 41,
     "metadata": {},
     "output_type": "execute_result"
    }
   ],
   "source": [
    "# Make a column in dataframe for what runtime bin each movie's in.\n",
    "\n",
    "bin_list = []\n",
    "for i in range(0,1519):\n",
    "    time = df['runtime_minutes'][i]\n",
    "    bin_list.append((time//30)+1)\n",
    "    \n",
    "# +1 on the floor division because we don't want a 0 group for plot.\n",
    "\n",
    "bin_list[:5]"
   ]
  },
  {
   "cell_type": "code",
   "execution_count": 69,
   "metadata": {},
   "outputs": [],
   "source": [
    "# Iterating a list of average ROI by runtime bin.\n",
    "\n",
    "avg_roi_by_bin = []\n",
    "for i in range(1,7):\n",
    "    val = np.average(df[df['bin'] == i]['roi_w'])\n",
    "    avg_roi_by_bin.append(val)"
   ]
  },
  {
   "cell_type": "code",
   "execution_count": 70,
   "metadata": {},
   "outputs": [
    {
     "data": {
      "text/plain": [
       "[140.79096140186203,\n",
       " 75.82514147300695,\n",
       " 494.89591142276646,\n",
       " 226.07856149692225,\n",
       " 252.96344075457233,\n",
       " 298.4219270824716]"
      ]
     },
     "execution_count": 70,
     "metadata": {},
     "output_type": "execute_result"
    }
   ],
   "source": [
    "avg_roi_by_bin"
   ]
  },
  {
   "cell_type": "code",
   "execution_count": null,
   "metadata": {},
   "outputs": [],
   "source": []
  }
 ],
 "metadata": {
  "kernelspec": {
   "display_name": "Python [conda env:learn-env] *",
   "language": "python",
   "name": "conda-env-learn-env-py"
  },
  "language_info": {
   "codemirror_mode": {
    "name": "ipython",
    "version": 3
   },
   "file_extension": ".py",
   "mimetype": "text/x-python",
   "name": "python",
   "nbconvert_exporter": "python",
   "pygments_lexer": "ipython3",
   "version": "3.6.9"
  }
 },
 "nbformat": 4,
 "nbformat_minor": 2
}
