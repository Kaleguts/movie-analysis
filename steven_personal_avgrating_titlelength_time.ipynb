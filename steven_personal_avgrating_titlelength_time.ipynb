{
 "cells": [
  {
   "cell_type": "markdown",
   "metadata": {},
   "source": [
    "# Steven's Question: Does title length affect rating? Does this change over the years?"
   ]
  },
  {
   "cell_type": "markdown",
   "metadata": {},
   "source": [
    "First we import our main libraries and open all those .csv files as DataFrames."
   ]
  },
  {
   "cell_type": "code",
   "execution_count": 1,
   "metadata": {},
   "outputs": [],
   "source": [
    "import numpy as np\n",
    "import pandas as pd\n",
    "from glob import glob\n",
    "import sqlite3\n",
    "import seaborn as sns\n",
    "import matplotlib.pyplot as plt\n",
    "%matplotlib inline"
   ]
  },
  {
   "cell_type": "code",
   "execution_count": 2,
   "metadata": {},
   "outputs": [
    {
     "data": {
      "text/plain": [
       "9"
      ]
     },
     "execution_count": 2,
     "metadata": {},
     "output_type": "execute_result"
    }
   ],
   "source": [
    "# This pulls all the .csv files into one list of dataframes.\n",
    "\n",
    "csv_files = glob('zippedData/*.csv.gz')\n",
    "csv_dfs = [pd.read_csv(f) for f in csv_files]\n",
    "len(csv_dfs)"
   ]
  },
  {
   "cell_type": "markdown",
   "metadata": {},
   "source": [
    "Now we give those files readable names and open them to see what meaningful columns we want to work with."
   ]
  },
  {
   "cell_type": "code",
   "execution_count": 3,
   "metadata": {},
   "outputs": [],
   "source": [
    "# Assign the .csv files to human-readable variables.\n",
    "imdb_basics = csv_dfs[3]\n",
    "imdb_ratings = csv_dfs[6]"
   ]
  },
  {
   "cell_type": "code",
   "execution_count": 4,
   "metadata": {
    "scrolled": true
   },
   "outputs": [
    {
     "data": {
      "text/html": [
       "<div>\n",
       "<style scoped>\n",
       "    .dataframe tbody tr th:only-of-type {\n",
       "        vertical-align: middle;\n",
       "    }\n",
       "\n",
       "    .dataframe tbody tr th {\n",
       "        vertical-align: top;\n",
       "    }\n",
       "\n",
       "    .dataframe thead th {\n",
       "        text-align: right;\n",
       "    }\n",
       "</style>\n",
       "<table border=\"1\" class=\"dataframe\">\n",
       "  <thead>\n",
       "    <tr style=\"text-align: right;\">\n",
       "      <th></th>\n",
       "      <th>tconst</th>\n",
       "      <th>primary_title</th>\n",
       "      <th>original_title</th>\n",
       "      <th>start_year</th>\n",
       "      <th>runtime_minutes</th>\n",
       "      <th>genres</th>\n",
       "    </tr>\n",
       "  </thead>\n",
       "  <tbody>\n",
       "    <tr>\n",
       "      <td>0</td>\n",
       "      <td>tt0063540</td>\n",
       "      <td>Sunghursh</td>\n",
       "      <td>Sunghursh</td>\n",
       "      <td>2013</td>\n",
       "      <td>175.0</td>\n",
       "      <td>Action,Crime,Drama</td>\n",
       "    </tr>\n",
       "    <tr>\n",
       "      <td>1</td>\n",
       "      <td>tt0066787</td>\n",
       "      <td>One Day Before the Rainy Season</td>\n",
       "      <td>Ashad Ka Ek Din</td>\n",
       "      <td>2019</td>\n",
       "      <td>114.0</td>\n",
       "      <td>Biography,Drama</td>\n",
       "    </tr>\n",
       "    <tr>\n",
       "      <td>2</td>\n",
       "      <td>tt0069049</td>\n",
       "      <td>The Other Side of the Wind</td>\n",
       "      <td>The Other Side of the Wind</td>\n",
       "      <td>2018</td>\n",
       "      <td>122.0</td>\n",
       "      <td>Drama</td>\n",
       "    </tr>\n",
       "    <tr>\n",
       "      <td>3</td>\n",
       "      <td>tt0069204</td>\n",
       "      <td>Sabse Bada Sukh</td>\n",
       "      <td>Sabse Bada Sukh</td>\n",
       "      <td>2018</td>\n",
       "      <td>NaN</td>\n",
       "      <td>Comedy,Drama</td>\n",
       "    </tr>\n",
       "    <tr>\n",
       "      <td>4</td>\n",
       "      <td>tt0100275</td>\n",
       "      <td>The Wandering Soap Opera</td>\n",
       "      <td>La Telenovela Errante</td>\n",
       "      <td>2017</td>\n",
       "      <td>80.0</td>\n",
       "      <td>Comedy,Drama,Fantasy</td>\n",
       "    </tr>\n",
       "  </tbody>\n",
       "</table>\n",
       "</div>"
      ],
      "text/plain": [
       "      tconst                    primary_title              original_title  \\\n",
       "0  tt0063540                        Sunghursh                   Sunghursh   \n",
       "1  tt0066787  One Day Before the Rainy Season             Ashad Ka Ek Din   \n",
       "2  tt0069049       The Other Side of the Wind  The Other Side of the Wind   \n",
       "3  tt0069204                  Sabse Bada Sukh             Sabse Bada Sukh   \n",
       "4  tt0100275         The Wandering Soap Opera       La Telenovela Errante   \n",
       "\n",
       "   start_year  runtime_minutes                genres  \n",
       "0        2013            175.0    Action,Crime,Drama  \n",
       "1        2019            114.0       Biography,Drama  \n",
       "2        2018            122.0                 Drama  \n",
       "3        2018              NaN          Comedy,Drama  \n",
       "4        2017             80.0  Comedy,Drama,Fantasy  "
      ]
     },
     "execution_count": 4,
     "metadata": {},
     "output_type": "execute_result"
    }
   ],
   "source": [
    "imdb_basics.head() # Using: tconst, primary_title, start_year"
   ]
  },
  {
   "cell_type": "code",
   "execution_count": 5,
   "metadata": {},
   "outputs": [
    {
     "data": {
      "text/html": [
       "<div>\n",
       "<style scoped>\n",
       "    .dataframe tbody tr th:only-of-type {\n",
       "        vertical-align: middle;\n",
       "    }\n",
       "\n",
       "    .dataframe tbody tr th {\n",
       "        vertical-align: top;\n",
       "    }\n",
       "\n",
       "    .dataframe thead th {\n",
       "        text-align: right;\n",
       "    }\n",
       "</style>\n",
       "<table border=\"1\" class=\"dataframe\">\n",
       "  <thead>\n",
       "    <tr style=\"text-align: right;\">\n",
       "      <th></th>\n",
       "      <th>tconst</th>\n",
       "      <th>averagerating</th>\n",
       "      <th>numvotes</th>\n",
       "    </tr>\n",
       "  </thead>\n",
       "  <tbody>\n",
       "    <tr>\n",
       "      <td>0</td>\n",
       "      <td>tt10356526</td>\n",
       "      <td>8.3</td>\n",
       "      <td>31</td>\n",
       "    </tr>\n",
       "    <tr>\n",
       "      <td>1</td>\n",
       "      <td>tt10384606</td>\n",
       "      <td>8.9</td>\n",
       "      <td>559</td>\n",
       "    </tr>\n",
       "    <tr>\n",
       "      <td>2</td>\n",
       "      <td>tt1042974</td>\n",
       "      <td>6.4</td>\n",
       "      <td>20</td>\n",
       "    </tr>\n",
       "    <tr>\n",
       "      <td>3</td>\n",
       "      <td>tt1043726</td>\n",
       "      <td>4.2</td>\n",
       "      <td>50352</td>\n",
       "    </tr>\n",
       "    <tr>\n",
       "      <td>4</td>\n",
       "      <td>tt1060240</td>\n",
       "      <td>6.5</td>\n",
       "      <td>21</td>\n",
       "    </tr>\n",
       "  </tbody>\n",
       "</table>\n",
       "</div>"
      ],
      "text/plain": [
       "       tconst  averagerating  numvotes\n",
       "0  tt10356526            8.3        31\n",
       "1  tt10384606            8.9       559\n",
       "2   tt1042974            6.4        20\n",
       "3   tt1043726            4.2     50352\n",
       "4   tt1060240            6.5        21"
      ]
     },
     "execution_count": 5,
     "metadata": {},
     "output_type": "execute_result"
    }
   ],
   "source": [
    "imdb_ratings.head() #Using: tconst, averagerating, numvotes"
   ]
  },
  {
   "cell_type": "markdown",
   "metadata": {},
   "source": [
    "Then, we create a SQL database, check that it's in our working directory, and import our DataFrames into SQL."
   ]
  },
  {
   "cell_type": "code",
   "execution_count": 6,
   "metadata": {},
   "outputs": [],
   "source": [
    "# Create a SQL database for easy joins.\n",
    "\n",
    "conn = sqlite3.connect('steven2.db')\n",
    "cur = conn.cursor()"
   ]
  },
  {
   "cell_type": "code",
   "execution_count": 7,
   "metadata": {},
   "outputs": [],
   "source": [
    "# Check to make sure SQL database was created."
   ]
  },
  {
   "cell_type": "code",
   "execution_count": 8,
   "metadata": {},
   "outputs": [
    {
     "name": "stdout",
     "output_type": "stream",
     "text": [
      " Volume in drive C is OS\n",
      " Volume Serial Number is C084-E836\n",
      "\n",
      " Directory of C:\\Users\\Steven\\class\\mod1\\movie-analysis\n",
      "\n",
      "06/16/2020  02:41 PM    <DIR>          .\n",
      "06/16/2020  02:41 PM    <DIR>          ..\n",
      "06/16/2020  11:59 AM             2,131 .gitignore\n",
      "06/16/2020  12:20 PM    <DIR>          .ipynb_checkpoints\n",
      "06/16/2020  10:26 AM                16 README.md\n",
      "06/16/2020  11:49 AM            61,933 steven_data_exploration.ipynb\n",
      "06/16/2020  02:41 PM            34,674 steven_group_q_profit_runtime_cleaning.ipynb\n",
      "06/16/2020  02:41 PM           108,120 steven_personal_avgrating_titlelength_time.ipynb\n",
      "06/16/2020  11:49 AM            44,815 steven_personal_q_cleaning.ipynb\n",
      "06/16/2020  12:15 PM        12,980,224 steven2.db\n",
      "06/16/2020  11:59 AM    <DIR>          zippedData\n",
      "               7 File(s)     13,231,913 bytes\n",
      "               4 Dir(s)  42,766,860,288 bytes free\n"
     ]
    }
   ],
   "source": [
    "ls"
   ]
  },
  {
   "cell_type": "code",
   "execution_count": 9,
   "metadata": {},
   "outputs": [],
   "source": [
    "# Turn dataframes into tables on database.\n",
    "\n",
    "imdb_basics.to_sql('basics', conn, if_exists='replace', index=False)\n",
    "imdb_ratings.to_sql('ratings', conn, if_exists='replace', index=False)"
   ]
  },
  {
   "cell_type": "code",
   "execution_count": 10,
   "metadata": {},
   "outputs": [],
   "source": [
    "# Commit database changes\n",
    "\n",
    "conn.commit()"
   ]
  },
  {
   "cell_type": "code",
   "execution_count": 11,
   "metadata": {},
   "outputs": [
    {
     "data": {
      "text/html": [
       "<div>\n",
       "<style scoped>\n",
       "    .dataframe tbody tr th:only-of-type {\n",
       "        vertical-align: middle;\n",
       "    }\n",
       "\n",
       "    .dataframe tbody tr th {\n",
       "        vertical-align: top;\n",
       "    }\n",
       "\n",
       "    .dataframe thead th {\n",
       "        text-align: right;\n",
       "    }\n",
       "</style>\n",
       "<table border=\"1\" class=\"dataframe\">\n",
       "  <thead>\n",
       "    <tr style=\"text-align: right;\">\n",
       "      <th></th>\n",
       "      <th>primary_title</th>\n",
       "      <th>start_year</th>\n",
       "      <th>numvotes</th>\n",
       "      <th>averagerating</th>\n",
       "    </tr>\n",
       "    <tr>\n",
       "      <th>tconst</th>\n",
       "      <th></th>\n",
       "      <th></th>\n",
       "      <th></th>\n",
       "      <th></th>\n",
       "    </tr>\n",
       "  </thead>\n",
       "  <tbody>\n",
       "    <tr>\n",
       "      <td>tt0063540</td>\n",
       "      <td>Sunghursh</td>\n",
       "      <td>2013</td>\n",
       "      <td>77</td>\n",
       "      <td>7.0</td>\n",
       "    </tr>\n",
       "    <tr>\n",
       "      <td>tt0066787</td>\n",
       "      <td>One Day Before the Rainy Season</td>\n",
       "      <td>2019</td>\n",
       "      <td>43</td>\n",
       "      <td>7.2</td>\n",
       "    </tr>\n",
       "    <tr>\n",
       "      <td>tt0069049</td>\n",
       "      <td>The Other Side of the Wind</td>\n",
       "      <td>2018</td>\n",
       "      <td>4517</td>\n",
       "      <td>6.9</td>\n",
       "    </tr>\n",
       "    <tr>\n",
       "      <td>tt0069204</td>\n",
       "      <td>Sabse Bada Sukh</td>\n",
       "      <td>2018</td>\n",
       "      <td>13</td>\n",
       "      <td>6.1</td>\n",
       "    </tr>\n",
       "    <tr>\n",
       "      <td>tt0100275</td>\n",
       "      <td>The Wandering Soap Opera</td>\n",
       "      <td>2017</td>\n",
       "      <td>119</td>\n",
       "      <td>6.5</td>\n",
       "    </tr>\n",
       "    <tr>\n",
       "      <td>...</td>\n",
       "      <td>...</td>\n",
       "      <td>...</td>\n",
       "      <td>...</td>\n",
       "      <td>...</td>\n",
       "    </tr>\n",
       "    <tr>\n",
       "      <td>tt9913084</td>\n",
       "      <td>Diabolik sono io</td>\n",
       "      <td>2019</td>\n",
       "      <td>6</td>\n",
       "      <td>6.2</td>\n",
       "    </tr>\n",
       "    <tr>\n",
       "      <td>tt9914286</td>\n",
       "      <td>Sokagin Çocuklari</td>\n",
       "      <td>2019</td>\n",
       "      <td>136</td>\n",
       "      <td>8.7</td>\n",
       "    </tr>\n",
       "    <tr>\n",
       "      <td>tt9914642</td>\n",
       "      <td>Albatross</td>\n",
       "      <td>2017</td>\n",
       "      <td>8</td>\n",
       "      <td>8.5</td>\n",
       "    </tr>\n",
       "    <tr>\n",
       "      <td>tt9914942</td>\n",
       "      <td>La vida sense la Sara Amat</td>\n",
       "      <td>2019</td>\n",
       "      <td>5</td>\n",
       "      <td>6.6</td>\n",
       "    </tr>\n",
       "    <tr>\n",
       "      <td>tt9916160</td>\n",
       "      <td>Drømmeland</td>\n",
       "      <td>2019</td>\n",
       "      <td>11</td>\n",
       "      <td>6.5</td>\n",
       "    </tr>\n",
       "  </tbody>\n",
       "</table>\n",
       "<p>73856 rows × 4 columns</p>\n",
       "</div>"
      ],
      "text/plain": [
       "                             primary_title  start_year  numvotes  \\\n",
       "tconst                                                             \n",
       "tt0063540                        Sunghursh        2013        77   \n",
       "tt0066787  One Day Before the Rainy Season        2019        43   \n",
       "tt0069049       The Other Side of the Wind        2018      4517   \n",
       "tt0069204                  Sabse Bada Sukh        2018        13   \n",
       "tt0100275         The Wandering Soap Opera        2017       119   \n",
       "...                                    ...         ...       ...   \n",
       "tt9913084                 Diabolik sono io        2019         6   \n",
       "tt9914286                Sokagin Çocuklari        2019       136   \n",
       "tt9914642                        Albatross        2017         8   \n",
       "tt9914942       La vida sense la Sara Amat        2019         5   \n",
       "tt9916160                       Drømmeland        2019        11   \n",
       "\n",
       "           averagerating  \n",
       "tconst                    \n",
       "tt0063540            7.0  \n",
       "tt0066787            7.2  \n",
       "tt0069049            6.9  \n",
       "tt0069204            6.1  \n",
       "tt0100275            6.5  \n",
       "...                  ...  \n",
       "tt9913084            6.2  \n",
       "tt9914286            8.7  \n",
       "tt9914642            8.5  \n",
       "tt9914942            6.6  \n",
       "tt9916160            6.5  \n",
       "\n",
       "[73856 rows x 4 columns]"
      ]
     },
     "execution_count": 11,
     "metadata": {},
     "output_type": "execute_result"
    }
   ],
   "source": [
    "a = pd.DataFrame(cur.execute(\"\"\"SELECT b.primary_title, b.start_year, b.tconst, r.numvotes, r.averagerating\n",
    "                                FROM basics b\n",
    "                                JOIN ratings r\n",
    "                                USING(tconst)\"\"\").fetchall())\n",
    "a.columns = [x[0] for x in cur.description]\n",
    "basic_rating = a.set_index('tconst')\n",
    "basic_rating"
   ]
  },
  {
   "cell_type": "markdown",
   "metadata": {},
   "source": [
    "Above, we've joined the two DataFrames we were interested in. I did in this in SQL as opposed to Pandas' built-in methods simply cause I'm more comfortable using it."
   ]
  },
  {
   "cell_type": "markdown",
   "metadata": {},
   "source": [
    "Now, we're going refine this DataFrame a bit more. We don't want data from movies with too few votes, so let's drop anything with less than 100 and see where that leaves us."
   ]
  },
  {
   "cell_type": "code",
   "execution_count": 12,
   "metadata": {},
   "outputs": [
    {
     "data": {
      "text/html": [
       "<div>\n",
       "<style scoped>\n",
       "    .dataframe tbody tr th:only-of-type {\n",
       "        vertical-align: middle;\n",
       "    }\n",
       "\n",
       "    .dataframe tbody tr th {\n",
       "        vertical-align: top;\n",
       "    }\n",
       "\n",
       "    .dataframe thead th {\n",
       "        text-align: right;\n",
       "    }\n",
       "</style>\n",
       "<table border=\"1\" class=\"dataframe\">\n",
       "  <thead>\n",
       "    <tr style=\"text-align: right;\">\n",
       "      <th></th>\n",
       "      <th>primary_title</th>\n",
       "      <th>start_year</th>\n",
       "      <th>numvotes</th>\n",
       "      <th>averagerating</th>\n",
       "    </tr>\n",
       "    <tr>\n",
       "      <th>tconst</th>\n",
       "      <th></th>\n",
       "      <th></th>\n",
       "      <th></th>\n",
       "      <th></th>\n",
       "    </tr>\n",
       "  </thead>\n",
       "  <tbody>\n",
       "    <tr>\n",
       "      <td>tt0069049</td>\n",
       "      <td>The Other Side of the Wind</td>\n",
       "      <td>2018</td>\n",
       "      <td>4517</td>\n",
       "      <td>6.9</td>\n",
       "    </tr>\n",
       "    <tr>\n",
       "      <td>tt0100275</td>\n",
       "      <td>The Wandering Soap Opera</td>\n",
       "      <td>2017</td>\n",
       "      <td>119</td>\n",
       "      <td>6.5</td>\n",
       "    </tr>\n",
       "    <tr>\n",
       "      <td>tt0137204</td>\n",
       "      <td>Joe Finds Grace</td>\n",
       "      <td>2017</td>\n",
       "      <td>263</td>\n",
       "      <td>8.1</td>\n",
       "    </tr>\n",
       "    <tr>\n",
       "      <td>tt0146592</td>\n",
       "      <td>Pál Adrienn</td>\n",
       "      <td>2010</td>\n",
       "      <td>451</td>\n",
       "      <td>6.8</td>\n",
       "    </tr>\n",
       "    <tr>\n",
       "      <td>tt0162942</td>\n",
       "      <td>Children of the Green Dragon</td>\n",
       "      <td>2010</td>\n",
       "      <td>120</td>\n",
       "      <td>6.9</td>\n",
       "    </tr>\n",
       "  </tbody>\n",
       "</table>\n",
       "</div>"
      ],
      "text/plain": [
       "                          primary_title  start_year  numvotes  averagerating\n",
       "tconst                                                                      \n",
       "tt0069049    The Other Side of the Wind        2018      4517            6.9\n",
       "tt0100275      The Wandering Soap Opera        2017       119            6.5\n",
       "tt0137204               Joe Finds Grace        2017       263            8.1\n",
       "tt0146592                   Pál Adrienn        2010       451            6.8\n",
       "tt0162942  Children of the Green Dragon        2010       120            6.9"
      ]
     },
     "execution_count": 12,
     "metadata": {},
     "output_type": "execute_result"
    }
   ],
   "source": [
    "# We pass the DataFrame a Pandas series of booleans.\n",
    "# True values have 100+ votes and are kept.\n",
    "\n",
    "enough_votes = basic_rating.numvotes >= 100\n",
    "br2 = basic_rating[enough_votes]\n",
    "br2.head()"
   ]
  },
  {
   "cell_type": "markdown",
   "metadata": {},
   "source": [
    "Great! We still have a lot of data to work with, and have gotten rid of anything where there's not enough ratings to really be salient. But now we need to add a new column for title length. We'll be looking at number of words as opposed to number of letters. (This decision was made because the English syllabary is awfully messy and inconsistent in its average length. For example, a single syllable word can be as short as \"a\" or as long as \"strength.\" For this reason, whole words are a more reliable metric.)"
   ]
  },
  {
   "cell_type": "code",
   "execution_count": 13,
   "metadata": {},
   "outputs": [],
   "source": [
    "# Make an empty list to hold title lengths.\n",
    "# Make another list, that contains all the split titles in our DataFrame.\n",
    "# Use a for loop to populate the first list with the word-lengths of these titles.\n",
    "\n",
    "title_lengths = []\n",
    "split_titles = br2['primary_title'].str.split()\n",
    "for i in range(0,28753):\n",
    "    title_lengths.append(len(split_titles[i]))"
   ]
  },
  {
   "cell_type": "code",
   "execution_count": 14,
   "metadata": {},
   "outputs": [
    {
     "data": {
      "text/plain": [
       "[6, 4, 3, 2, 5]"
      ]
     },
     "execution_count": 14,
     "metadata": {},
     "output_type": "execute_result"
    }
   ],
   "source": [
    "# Check that it works\n",
    "\n",
    "title_lengths[:5]"
   ]
  },
  {
   "cell_type": "code",
   "execution_count": 21,
   "metadata": {},
   "outputs": [
    {
     "data": {
      "text/html": [
       "<div>\n",
       "<style scoped>\n",
       "    .dataframe tbody tr th:only-of-type {\n",
       "        vertical-align: middle;\n",
       "    }\n",
       "\n",
       "    .dataframe tbody tr th {\n",
       "        vertical-align: top;\n",
       "    }\n",
       "\n",
       "    .dataframe thead th {\n",
       "        text-align: right;\n",
       "    }\n",
       "</style>\n",
       "<table border=\"1\" class=\"dataframe\">\n",
       "  <thead>\n",
       "    <tr style=\"text-align: right;\">\n",
       "      <th></th>\n",
       "      <th>primary_title</th>\n",
       "      <th>start_year</th>\n",
       "      <th>numvotes</th>\n",
       "      <th>averagerating</th>\n",
       "      <th>title_length</th>\n",
       "    </tr>\n",
       "    <tr>\n",
       "      <th>tconst</th>\n",
       "      <th></th>\n",
       "      <th></th>\n",
       "      <th></th>\n",
       "      <th></th>\n",
       "      <th></th>\n",
       "    </tr>\n",
       "  </thead>\n",
       "  <tbody>\n",
       "    <tr>\n",
       "      <td>tt0069049</td>\n",
       "      <td>The Other Side of the Wind</td>\n",
       "      <td>2018</td>\n",
       "      <td>4517</td>\n",
       "      <td>6.9</td>\n",
       "      <td>6</td>\n",
       "    </tr>\n",
       "    <tr>\n",
       "      <td>tt0100275</td>\n",
       "      <td>The Wandering Soap Opera</td>\n",
       "      <td>2017</td>\n",
       "      <td>119</td>\n",
       "      <td>6.5</td>\n",
       "      <td>4</td>\n",
       "    </tr>\n",
       "    <tr>\n",
       "      <td>tt0137204</td>\n",
       "      <td>Joe Finds Grace</td>\n",
       "      <td>2017</td>\n",
       "      <td>263</td>\n",
       "      <td>8.1</td>\n",
       "      <td>3</td>\n",
       "    </tr>\n",
       "    <tr>\n",
       "      <td>tt0146592</td>\n",
       "      <td>Pál Adrienn</td>\n",
       "      <td>2010</td>\n",
       "      <td>451</td>\n",
       "      <td>6.8</td>\n",
       "      <td>2</td>\n",
       "    </tr>\n",
       "    <tr>\n",
       "      <td>tt0162942</td>\n",
       "      <td>Children of the Green Dragon</td>\n",
       "      <td>2010</td>\n",
       "      <td>120</td>\n",
       "      <td>6.9</td>\n",
       "      <td>5</td>\n",
       "    </tr>\n",
       "    <tr>\n",
       "      <td>...</td>\n",
       "      <td>...</td>\n",
       "      <td>...</td>\n",
       "      <td>...</td>\n",
       "      <td>...</td>\n",
       "      <td>...</td>\n",
       "    </tr>\n",
       "    <tr>\n",
       "      <td>tt9904844</td>\n",
       "      <td>Ott Tänak: The Movie</td>\n",
       "      <td>2019</td>\n",
       "      <td>218</td>\n",
       "      <td>8.7</td>\n",
       "      <td>4</td>\n",
       "    </tr>\n",
       "    <tr>\n",
       "      <td>tt9905412</td>\n",
       "      <td>Ottam</td>\n",
       "      <td>2019</td>\n",
       "      <td>505</td>\n",
       "      <td>8.1</td>\n",
       "      <td>1</td>\n",
       "    </tr>\n",
       "    <tr>\n",
       "      <td>tt9905462</td>\n",
       "      <td>Pengalila</td>\n",
       "      <td>2019</td>\n",
       "      <td>600</td>\n",
       "      <td>8.4</td>\n",
       "      <td>1</td>\n",
       "    </tr>\n",
       "    <tr>\n",
       "      <td>tt9911774</td>\n",
       "      <td>Padmavyuhathile Abhimanyu</td>\n",
       "      <td>2019</td>\n",
       "      <td>365</td>\n",
       "      <td>8.4</td>\n",
       "      <td>2</td>\n",
       "    </tr>\n",
       "    <tr>\n",
       "      <td>tt9914286</td>\n",
       "      <td>Sokagin Çocuklari</td>\n",
       "      <td>2019</td>\n",
       "      <td>136</td>\n",
       "      <td>8.7</td>\n",
       "      <td>2</td>\n",
       "    </tr>\n",
       "  </tbody>\n",
       "</table>\n",
       "<p>28753 rows × 5 columns</p>\n",
       "</div>"
      ],
      "text/plain": [
       "                          primary_title  start_year  numvotes  averagerating  \\\n",
       "tconst                                                                         \n",
       "tt0069049    The Other Side of the Wind        2018      4517            6.9   \n",
       "tt0100275      The Wandering Soap Opera        2017       119            6.5   \n",
       "tt0137204               Joe Finds Grace        2017       263            8.1   \n",
       "tt0146592                   Pál Adrienn        2010       451            6.8   \n",
       "tt0162942  Children of the Green Dragon        2010       120            6.9   \n",
       "...                                 ...         ...       ...            ...   \n",
       "tt9904844          Ott Tänak: The Movie        2019       218            8.7   \n",
       "tt9905412                         Ottam        2019       505            8.1   \n",
       "tt9905462                     Pengalila        2019       600            8.4   \n",
       "tt9911774     Padmavyuhathile Abhimanyu        2019       365            8.4   \n",
       "tt9914286             Sokagin Çocuklari        2019       136            8.7   \n",
       "\n",
       "           title_length  \n",
       "tconst                   \n",
       "tt0069049             6  \n",
       "tt0100275             4  \n",
       "tt0137204             3  \n",
       "tt0146592             2  \n",
       "tt0162942             5  \n",
       "...                 ...  \n",
       "tt9904844             4  \n",
       "tt9905412             1  \n",
       "tt9905462             1  \n",
       "tt9911774             2  \n",
       "tt9914286             2  \n",
       "\n",
       "[28753 rows x 5 columns]"
      ]
     },
     "execution_count": 21,
     "metadata": {},
     "output_type": "execute_result"
    }
   ],
   "source": [
    "# Create a new column using our title length list\n",
    "\n",
    "br2.loc[:,'title_length'] = title_lengths\n",
    "br2"
   ]
  },
  {
   "cell_type": "markdown",
   "metadata": {},
   "source": [
    "Sweet, looks good! Our data is cleaned and ready to be plotted."
   ]
  },
  {
   "cell_type": "markdown",
   "metadata": {},
   "source": [
    "# Plotting The Data: Length, Rating, And Release Year"
   ]
  },
  {
   "cell_type": "code",
   "execution_count": 16,
   "metadata": {},
   "outputs": [
    {
     "data": {
      "text/plain": [
       "array([ 6,  4,  3,  2,  5,  1,  7, 11,  8, 10,  9, 14, 12, 13, 15, 16],\n",
       "      dtype=int64)"
      ]
     },
     "execution_count": 16,
     "metadata": {},
     "output_type": "execute_result"
    }
   ],
   "source": [
    "br2['title_length'].unique()"
   ]
  },
  {
   "cell_type": "code",
   "execution_count": 17,
   "metadata": {},
   "outputs": [
    {
     "data": {
      "image/png": "[encoded data removed]",
      "text/plain": [
       "<Figure size 432x288 with 1 Axes>"
      ]
     },
     "metadata": {},
     "output_type": "display_data"
    }
   ],
   "source": [
    "sns.set(style=\"whitegrid\", palette=\"bright\")\n",
    "\n",
    "# Draw a nested violinplot and split the violins for easier comparison\n",
    "sns.violinplot(x=br2['title_length'], y=br2['averagerating'])\n",
    "sns;"
   ]
  },
  {
   "cell_type": "code",
   "execution_count": 18,
   "metadata": {},
   "outputs": [
    {
     "data": {
      "image/png": "[encoded data removed]",
      "text/plain": [
       "<Figure size 1440x720 with 1 Axes>"
      ]
     },
     "metadata": {},
     "output_type": "display_data"
    }
   ],
   "source": [
    "br2['title_length'].value_counts().plot(kind='barh', figsize=(20,10), color='r');"
   ]
  },
  {
   "cell_type": "code",
   "execution_count": 19,
   "metadata": {},
   "outputs": [
    {
     "data": {
      "image/png": "[encoded data removed]",
      "text/plain": [
       "<Figure size 432x288 with 1 Axes>"
      ]
     },
     "metadata": {},
     "output_type": "display_data"
    }
   ],
   "source": [
    "plt.plot(br2['title_length'].value_counts().sort_index());"
   ]
  },
  {
   "cell_type": "code",
   "execution_count": 20,
   "metadata": {},
   "outputs": [
    {
     "data": {
      "text/html": [
       "<div>\n",
       "<style scoped>\n",
       "    .dataframe tbody tr th:only-of-type {\n",
       "        vertical-align: middle;\n",
       "    }\n",
       "\n",
       "    .dataframe tbody tr th {\n",
       "        vertical-align: top;\n",
       "    }\n",
       "\n",
       "    .dataframe thead th {\n",
       "        text-align: right;\n",
       "    }\n",
       "</style>\n",
       "<table border=\"1\" class=\"dataframe\">\n",
       "  <thead>\n",
       "    <tr style=\"text-align: right;\">\n",
       "      <th></th>\n",
       "      <th>primary_title</th>\n",
       "      <th>start_year</th>\n",
       "      <th>numvotes</th>\n",
       "      <th>averagerating</th>\n",
       "      <th>title_length</th>\n",
       "    </tr>\n",
       "    <tr>\n",
       "      <th>tconst</th>\n",
       "      <th></th>\n",
       "      <th></th>\n",
       "      <th></th>\n",
       "      <th></th>\n",
       "      <th></th>\n",
       "    </tr>\n",
       "  </thead>\n",
       "  <tbody>\n",
       "    <tr>\n",
       "      <td>tt1641808</td>\n",
       "      <td>Bruce Springsteen and the E Street Band: Londo...</td>\n",
       "      <td>2010</td>\n",
       "      <td>241</td>\n",
       "      <td>8.9</td>\n",
       "      <td>14</td>\n",
       "    </tr>\n",
       "    <tr>\n",
       "      <td>tt2084868</td>\n",
       "      <td>Kamen Rider Movie War Mega Max: Kamen Rider vs...</td>\n",
       "      <td>2011</td>\n",
       "      <td>119</td>\n",
       "      <td>6.9</td>\n",
       "      <td>14</td>\n",
       "    </tr>\n",
       "    <tr>\n",
       "      <td>tt2417650</td>\n",
       "      <td>30 Nights of Paranormal Activity with the Devi...</td>\n",
       "      <td>2013</td>\n",
       "      <td>3381</td>\n",
       "      <td>2.6</td>\n",
       "      <td>15</td>\n",
       "    </tr>\n",
       "    <tr>\n",
       "      <td>tt2480784</td>\n",
       "      <td>Which Way Is the Front Line from Here? The Lif...</td>\n",
       "      <td>2013</td>\n",
       "      <td>628</td>\n",
       "      <td>7.8</td>\n",
       "      <td>15</td>\n",
       "    </tr>\n",
       "    <tr>\n",
       "      <td>tt2916786</td>\n",
       "      <td>Jeff Wayne's Musical Version of the War of the...</td>\n",
       "      <td>2013</td>\n",
       "      <td>198</td>\n",
       "      <td>7.3</td>\n",
       "      <td>16</td>\n",
       "    </tr>\n",
       "    <tr>\n",
       "      <td>tt3329956</td>\n",
       "      <td>Eu Não Faço a Menor Ideia do Que Eu Tô Fazendo...</td>\n",
       "      <td>2012</td>\n",
       "      <td>373</td>\n",
       "      <td>5.6</td>\n",
       "      <td>15</td>\n",
       "    </tr>\n",
       "    <tr>\n",
       "      <td>tt4881172</td>\n",
       "      <td>The Sky Trembles and the Earth Is Afraid and t...</td>\n",
       "      <td>2015</td>\n",
       "      <td>198</td>\n",
       "      <td>6.1</td>\n",
       "      <td>15</td>\n",
       "    </tr>\n",
       "    <tr>\n",
       "      <td>tt5246328</td>\n",
       "      <td>How to Let Go of the World and Love All the Th...</td>\n",
       "      <td>2016</td>\n",
       "      <td>327</td>\n",
       "      <td>7.0</td>\n",
       "      <td>15</td>\n",
       "    </tr>\n",
       "    <tr>\n",
       "      <td>tt5338774</td>\n",
       "      <td>Power of Grayskull: The Definitive History of ...</td>\n",
       "      <td>2017</td>\n",
       "      <td>753</td>\n",
       "      <td>6.7</td>\n",
       "      <td>14</td>\n",
       "    </tr>\n",
       "    <tr>\n",
       "      <td>tt6580380</td>\n",
       "      <td>The Irregular at Magic High School: The Movie ...</td>\n",
       "      <td>2017</td>\n",
       "      <td>277</td>\n",
       "      <td>6.4</td>\n",
       "      <td>15</td>\n",
       "    </tr>\n",
       "    <tr>\n",
       "      <td>tt9135854</td>\n",
       "      <td>Take the Ball Pass the Ball: The Making of the...</td>\n",
       "      <td>2018</td>\n",
       "      <td>1377</td>\n",
       "      <td>8.2</td>\n",
       "      <td>15</td>\n",
       "    </tr>\n",
       "  </tbody>\n",
       "</table>\n",
       "</div>"
      ],
      "text/plain": [
       "                                               primary_title  start_year  \\\n",
       "tconst                                                                     \n",
       "tt1641808  Bruce Springsteen and the E Street Band: Londo...        2010   \n",
       "tt2084868  Kamen Rider Movie War Mega Max: Kamen Rider vs...        2011   \n",
       "tt2417650  30 Nights of Paranormal Activity with the Devi...        2013   \n",
       "tt2480784  Which Way Is the Front Line from Here? The Lif...        2013   \n",
       "tt2916786  Jeff Wayne's Musical Version of the War of the...        2013   \n",
       "tt3329956  Eu Não Faço a Menor Ideia do Que Eu Tô Fazendo...        2012   \n",
       "tt4881172  The Sky Trembles and the Earth Is Afraid and t...        2015   \n",
       "tt5246328  How to Let Go of the World and Love All the Th...        2016   \n",
       "tt5338774  Power of Grayskull: The Definitive History of ...        2017   \n",
       "tt6580380  The Irregular at Magic High School: The Movie ...        2017   \n",
       "tt9135854  Take the Ball Pass the Ball: The Making of the...        2018   \n",
       "\n",
       "           numvotes  averagerating  title_length  \n",
       "tconst                                            \n",
       "tt1641808       241            8.9            14  \n",
       "tt2084868       119            6.9            14  \n",
       "tt2417650      3381            2.6            15  \n",
       "tt2480784       628            7.8            15  \n",
       "tt2916786       198            7.3            16  \n",
       "tt3329956       373            5.6            15  \n",
       "tt4881172       198            6.1            15  \n",
       "tt5246328       327            7.0            15  \n",
       "tt5338774       753            6.7            14  \n",
       "tt6580380       277            6.4            15  \n",
       "tt9135854      1377            8.2            15  "
      ]
     },
     "execution_count": 20,
     "metadata": {},
     "output_type": "execute_result"
    }
   ],
   "source": [
    "longboyz = br2.title_length >= 14\n",
    "br2[longboyz]"
   ]
  },
  {
   "cell_type": "code",
   "execution_count": null,
   "metadata": {},
   "outputs": [],
   "source": []
  }
 ],
 "metadata": {
  "kernelspec": {
   "display_name": "Python [conda env:learn-env] *",
   "language": "python",
   "name": "conda-env-learn-env-py"
  },
  "language_info": {
   "codemirror_mode": {
    "name": "ipython",
    "version": 3
   },
   "file_extension": ".py",
   "mimetype": "text/x-python",
   "name": "python",
   "nbconvert_exporter": "python",
   "pygments_lexer": "ipython3",
   "version": "3.6.9"
  }
 },
 "nbformat": 4,
 "nbformat_minor": 2
}
